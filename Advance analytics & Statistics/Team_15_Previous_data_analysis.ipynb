{
  "nbformat": 4,
  "nbformat_minor": 0,
  "metadata": {
    "colab": {
      "provenance": []
    },
    "kernelspec": {
      "name": "python3",
      "display_name": "Python 3"
    },
    "language_info": {
      "name": "python"
    }
  },
  "cells": [
    {
      "cell_type": "markdown",
      "source": [
        "##**Business Objectives**\n",
        "* This case study aims to identify patterns which indicate if a client has difficulty paying their installments which may be used for taking actions such as denying the loan, reducing the amount of loan, lending (to risky applicants) at a higher interest rate, etc. This will ensure that the consumers capable of repaying the loan are not rejected. Identification of such applicants using EDA is the aim of this case study.\n",
        " \n",
        "* In other words, the company wants to understand the driving factors (or driver variables) behind loan default, i.e. the variables which are strong indicators of default.  The company can utilise this knowledge for its portfolio and risk assessment.\n",
        "* To develop your understanding of the domain, you are advised to independently research a little about risk analytics - understanding the types of variables and their significance should be enough).\n"
      ],
      "metadata": {
        "id": "gMdWcRxE48gx"
      }
    },
    {
      "cell_type": "code",
      "execution_count": 25,
      "metadata": {
        "id": "JPTDC1NB5NWa"
      },
      "outputs": [],
      "source": [
        "import numpy as np\n",
        "import pandas as pd\n",
        "import matplotlib.pyplot as plt\n",
        "import seaborn as sns"
      ]
    },
    {
      "cell_type": "code",
      "source": [
        "from google.colab import drive\n",
        "drive.mount('/content/drive/')"
      ],
      "metadata": {
        "colab": {
          "base_uri": "https://localhost:8080/"
        },
        "id": "bKUjqIax5VLt",
        "outputId": "599a493d-cd02-4af1-bf5e-7498360ab8c2"
      },
      "execution_count": 3,
      "outputs": [
        {
          "output_type": "stream",
          "name": "stdout",
          "text": [
            "Mounted at /content/drive/\n"
          ]
        }
      ]
    },
    {
      "cell_type": "code",
      "source": [
        "path = \"/content/drive/MyDrive/Advance Analytic Stats/\""
      ],
      "metadata": {
        "id": "evfcuqdB5XMP"
      },
      "execution_count": 6,
      "outputs": []
    },
    {
      "cell_type": "markdown",
      "source": [
        "# 1. Reading and understanding the data"
      ],
      "metadata": {
        "id": "O2rqAen-5nnU"
      }
    },
    {
      "cell_type": "markdown",
      "source": [
        "## 1.1 importing the dataset"
      ],
      "metadata": {
        "id": "S8LgFZo_5rwz"
      }
    },
    {
      "cell_type": "code",
      "source": [
        "file_name = \"previous_application.csv\"\n",
        "prev_ap_df = pd.read_csv(f\"{path}/{file_name}\", encoding='cp1252')\n",
        "file_name = \"application_data (1).csv\"\n",
        "application_df = pd.read_csv(f\"{path}/{file_name}\", encoding='cp1252')"
      ],
      "metadata": {
        "id": "20eZD8kK5dCi"
      },
      "execution_count": 15,
      "outputs": []
    },
    {
      "cell_type": "markdown",
      "source": [
        "###checking 5 rows for dataset"
      ],
      "metadata": {
        "id": "PLdAsVjKPY2Z"
      }
    },
    {
      "cell_type": "code",
      "source": [
        "prev_ap_df.head()"
      ],
      "metadata": {
        "colab": {
          "base_uri": "https://localhost:8080/",
          "height": 317
        },
        "id": "0RRugUdh5w6V",
        "outputId": "6c34a709-c5cf-46d9-9855-c0540ca7a191"
      },
      "execution_count": 16,
      "outputs": [
        {
          "output_type": "execute_result",
          "data": {
            "text/plain": [
              "   SK_ID_PREV  SK_ID_CURR NAME_CONTRACT_TYPE  AMT_ANNUITY  AMT_APPLICATION  \\\n",
              "0     2030495      271877     Consumer loans     1730.430          17145.0   \n",
              "1     2802425      108129         Cash loans    25188.615         607500.0   \n",
              "2     2523466      122040         Cash loans    15060.735         112500.0   \n",
              "3     2819243      176158         Cash loans    47041.335         450000.0   \n",
              "4     1784265      202054         Cash loans    31924.395         337500.0   \n",
              "\n",
              "   AMT_CREDIT  AMT_DOWN_PAYMENT  AMT_GOODS_PRICE WEEKDAY_APPR_PROCESS_START  \\\n",
              "0     17145.0               0.0          17145.0                   SATURDAY   \n",
              "1    679671.0               NaN         607500.0                   THURSDAY   \n",
              "2    136444.5               NaN         112500.0                    TUESDAY   \n",
              "3    470790.0               NaN         450000.0                     MONDAY   \n",
              "4    404055.0               NaN         337500.0                   THURSDAY   \n",
              "\n",
              "   HOUR_APPR_PROCESS_START  ... NAME_SELLER_INDUSTRY  CNT_PAYMENT  \\\n",
              "0                       15  ...         Connectivity         12.0   \n",
              "1                       11  ...                  XNA         36.0   \n",
              "2                       11  ...                  XNA         12.0   \n",
              "3                        7  ...                  XNA         12.0   \n",
              "4                        9  ...                  XNA         24.0   \n",
              "\n",
              "   NAME_YIELD_GROUP       PRODUCT_COMBINATION  DAYS_FIRST_DRAWING  \\\n",
              "0            middle  POS mobile with interest            365243.0   \n",
              "1        low_action          Cash X-Sell: low            365243.0   \n",
              "2              high         Cash X-Sell: high            365243.0   \n",
              "3            middle       Cash X-Sell: middle            365243.0   \n",
              "4              high         Cash Street: high                 NaN   \n",
              "\n",
              "  DAYS_FIRST_DUE DAYS_LAST_DUE_1ST_VERSION  DAYS_LAST_DUE DAYS_TERMINATION  \\\n",
              "0          -42.0                     300.0          -42.0            -37.0   \n",
              "1         -134.0                     916.0       365243.0         365243.0   \n",
              "2         -271.0                      59.0       365243.0         365243.0   \n",
              "3         -482.0                    -152.0         -182.0           -177.0   \n",
              "4            NaN                       NaN            NaN              NaN   \n",
              "\n",
              "  NFLAG_INSURED_ON_APPROVAL  \n",
              "0                       0.0  \n",
              "1                       1.0  \n",
              "2                       1.0  \n",
              "3                       1.0  \n",
              "4                       NaN  \n",
              "\n",
              "[5 rows x 37 columns]"
            ],
            "text/html": [
              "\n",
              "  <div id=\"df-418c2e02-06b9-464a-8c54-e0edd43910a6\">\n",
              "    <div class=\"colab-df-container\">\n",
              "      <div>\n",
              "<style scoped>\n",
              "    .dataframe tbody tr th:only-of-type {\n",
              "        vertical-align: middle;\n",
              "    }\n",
              "\n",
              "    .dataframe tbody tr th {\n",
              "        vertical-align: top;\n",
              "    }\n",
              "\n",
              "    .dataframe thead th {\n",
              "        text-align: right;\n",
              "    }\n",
              "</style>\n",
              "<table border=\"1\" class=\"dataframe\">\n",
              "  <thead>\n",
              "    <tr style=\"text-align: right;\">\n",
              "      <th></th>\n",
              "      <th>SK_ID_PREV</th>\n",
              "      <th>SK_ID_CURR</th>\n",
              "      <th>NAME_CONTRACT_TYPE</th>\n",
              "      <th>AMT_ANNUITY</th>\n",
              "      <th>AMT_APPLICATION</th>\n",
              "      <th>AMT_CREDIT</th>\n",
              "      <th>AMT_DOWN_PAYMENT</th>\n",
              "      <th>AMT_GOODS_PRICE</th>\n",
              "      <th>WEEKDAY_APPR_PROCESS_START</th>\n",
              "      <th>HOUR_APPR_PROCESS_START</th>\n",
              "      <th>...</th>\n",
              "      <th>NAME_SELLER_INDUSTRY</th>\n",
              "      <th>CNT_PAYMENT</th>\n",
              "      <th>NAME_YIELD_GROUP</th>\n",
              "      <th>PRODUCT_COMBINATION</th>\n",
              "      <th>DAYS_FIRST_DRAWING</th>\n",
              "      <th>DAYS_FIRST_DUE</th>\n",
              "      <th>DAYS_LAST_DUE_1ST_VERSION</th>\n",
              "      <th>DAYS_LAST_DUE</th>\n",
              "      <th>DAYS_TERMINATION</th>\n",
              "      <th>NFLAG_INSURED_ON_APPROVAL</th>\n",
              "    </tr>\n",
              "  </thead>\n",
              "  <tbody>\n",
              "    <tr>\n",
              "      <th>0</th>\n",
              "      <td>2030495</td>\n",
              "      <td>271877</td>\n",
              "      <td>Consumer loans</td>\n",
              "      <td>1730.430</td>\n",
              "      <td>17145.0</td>\n",
              "      <td>17145.0</td>\n",
              "      <td>0.0</td>\n",
              "      <td>17145.0</td>\n",
              "      <td>SATURDAY</td>\n",
              "      <td>15</td>\n",
              "      <td>...</td>\n",
              "      <td>Connectivity</td>\n",
              "      <td>12.0</td>\n",
              "      <td>middle</td>\n",
              "      <td>POS mobile with interest</td>\n",
              "      <td>365243.0</td>\n",
              "      <td>-42.0</td>\n",
              "      <td>300.0</td>\n",
              "      <td>-42.0</td>\n",
              "      <td>-37.0</td>\n",
              "      <td>0.0</td>\n",
              "    </tr>\n",
              "    <tr>\n",
              "      <th>1</th>\n",
              "      <td>2802425</td>\n",
              "      <td>108129</td>\n",
              "      <td>Cash loans</td>\n",
              "      <td>25188.615</td>\n",
              "      <td>607500.0</td>\n",
              "      <td>679671.0</td>\n",
              "      <td>NaN</td>\n",
              "      <td>607500.0</td>\n",
              "      <td>THURSDAY</td>\n",
              "      <td>11</td>\n",
              "      <td>...</td>\n",
              "      <td>XNA</td>\n",
              "      <td>36.0</td>\n",
              "      <td>low_action</td>\n",
              "      <td>Cash X-Sell: low</td>\n",
              "      <td>365243.0</td>\n",
              "      <td>-134.0</td>\n",
              "      <td>916.0</td>\n",
              "      <td>365243.0</td>\n",
              "      <td>365243.0</td>\n",
              "      <td>1.0</td>\n",
              "    </tr>\n",
              "    <tr>\n",
              "      <th>2</th>\n",
              "      <td>2523466</td>\n",
              "      <td>122040</td>\n",
              "      <td>Cash loans</td>\n",
              "      <td>15060.735</td>\n",
              "      <td>112500.0</td>\n",
              "      <td>136444.5</td>\n",
              "      <td>NaN</td>\n",
              "      <td>112500.0</td>\n",
              "      <td>TUESDAY</td>\n",
              "      <td>11</td>\n",
              "      <td>...</td>\n",
              "      <td>XNA</td>\n",
              "      <td>12.0</td>\n",
              "      <td>high</td>\n",
              "      <td>Cash X-Sell: high</td>\n",
              "      <td>365243.0</td>\n",
              "      <td>-271.0</td>\n",
              "      <td>59.0</td>\n",
              "      <td>365243.0</td>\n",
              "      <td>365243.0</td>\n",
              "      <td>1.0</td>\n",
              "    </tr>\n",
              "    <tr>\n",
              "      <th>3</th>\n",
              "      <td>2819243</td>\n",
              "      <td>176158</td>\n",
              "      <td>Cash loans</td>\n",
              "      <td>47041.335</td>\n",
              "      <td>450000.0</td>\n",
              "      <td>470790.0</td>\n",
              "      <td>NaN</td>\n",
              "      <td>450000.0</td>\n",
              "      <td>MONDAY</td>\n",
              "      <td>7</td>\n",
              "      <td>...</td>\n",
              "      <td>XNA</td>\n",
              "      <td>12.0</td>\n",
              "      <td>middle</td>\n",
              "      <td>Cash X-Sell: middle</td>\n",
              "      <td>365243.0</td>\n",
              "      <td>-482.0</td>\n",
              "      <td>-152.0</td>\n",
              "      <td>-182.0</td>\n",
              "      <td>-177.0</td>\n",
              "      <td>1.0</td>\n",
              "    </tr>\n",
              "    <tr>\n",
              "      <th>4</th>\n",
              "      <td>1784265</td>\n",
              "      <td>202054</td>\n",
              "      <td>Cash loans</td>\n",
              "      <td>31924.395</td>\n",
              "      <td>337500.0</td>\n",
              "      <td>404055.0</td>\n",
              "      <td>NaN</td>\n",
              "      <td>337500.0</td>\n",
              "      <td>THURSDAY</td>\n",
              "      <td>9</td>\n",
              "      <td>...</td>\n",
              "      <td>XNA</td>\n",
              "      <td>24.0</td>\n",
              "      <td>high</td>\n",
              "      <td>Cash Street: high</td>\n",
              "      <td>NaN</td>\n",
              "      <td>NaN</td>\n",
              "      <td>NaN</td>\n",
              "      <td>NaN</td>\n",
              "      <td>NaN</td>\n",
              "      <td>NaN</td>\n",
              "    </tr>\n",
              "  </tbody>\n",
              "</table>\n",
              "<p>5 rows × 37 columns</p>\n",
              "</div>\n",
              "      <button class=\"colab-df-convert\" onclick=\"convertToInteractive('df-418c2e02-06b9-464a-8c54-e0edd43910a6')\"\n",
              "              title=\"Convert this dataframe to an interactive table.\"\n",
              "              style=\"display:none;\">\n",
              "        \n",
              "  <svg xmlns=\"http://www.w3.org/2000/svg\" height=\"24px\"viewBox=\"0 0 24 24\"\n",
              "       width=\"24px\">\n",
              "    <path d=\"M0 0h24v24H0V0z\" fill=\"none\"/>\n",
              "    <path d=\"M18.56 5.44l.94 2.06.94-2.06 2.06-.94-2.06-.94-.94-2.06-.94 2.06-2.06.94zm-11 1L8.5 8.5l.94-2.06 2.06-.94-2.06-.94L8.5 2.5l-.94 2.06-2.06.94zm10 10l.94 2.06.94-2.06 2.06-.94-2.06-.94-.94-2.06-.94 2.06-2.06.94z\"/><path d=\"M17.41 7.96l-1.37-1.37c-.4-.4-.92-.59-1.43-.59-.52 0-1.04.2-1.43.59L10.3 9.45l-7.72 7.72c-.78.78-.78 2.05 0 2.83L4 21.41c.39.39.9.59 1.41.59.51 0 1.02-.2 1.41-.59l7.78-7.78 2.81-2.81c.8-.78.8-2.07 0-2.86zM5.41 20L4 18.59l7.72-7.72 1.47 1.35L5.41 20z\"/>\n",
              "  </svg>\n",
              "      </button>\n",
              "      \n",
              "  <style>\n",
              "    .colab-df-container {\n",
              "      display:flex;\n",
              "      flex-wrap:wrap;\n",
              "      gap: 12px;\n",
              "    }\n",
              "\n",
              "    .colab-df-convert {\n",
              "      background-color: #E8F0FE;\n",
              "      border: none;\n",
              "      border-radius: 50%;\n",
              "      cursor: pointer;\n",
              "      display: none;\n",
              "      fill: #1967D2;\n",
              "      height: 32px;\n",
              "      padding: 0 0 0 0;\n",
              "      width: 32px;\n",
              "    }\n",
              "\n",
              "    .colab-df-convert:hover {\n",
              "      background-color: #E2EBFA;\n",
              "      box-shadow: 0px 1px 2px rgba(60, 64, 67, 0.3), 0px 1px 3px 1px rgba(60, 64, 67, 0.15);\n",
              "      fill: #174EA6;\n",
              "    }\n",
              "\n",
              "    [theme=dark] .colab-df-convert {\n",
              "      background-color: #3B4455;\n",
              "      fill: #D2E3FC;\n",
              "    }\n",
              "\n",
              "    [theme=dark] .colab-df-convert:hover {\n",
              "      background-color: #434B5C;\n",
              "      box-shadow: 0px 1px 3px 1px rgba(0, 0, 0, 0.15);\n",
              "      filter: drop-shadow(0px 1px 2px rgba(0, 0, 0, 0.3));\n",
              "      fill: #FFFFFF;\n",
              "    }\n",
              "  </style>\n",
              "\n",
              "      <script>\n",
              "        const buttonEl =\n",
              "          document.querySelector('#df-418c2e02-06b9-464a-8c54-e0edd43910a6 button.colab-df-convert');\n",
              "        buttonEl.style.display =\n",
              "          google.colab.kernel.accessAllowed ? 'block' : 'none';\n",
              "\n",
              "        async function convertToInteractive(key) {\n",
              "          const element = document.querySelector('#df-418c2e02-06b9-464a-8c54-e0edd43910a6');\n",
              "          const dataTable =\n",
              "            await google.colab.kernel.invokeFunction('convertToInteractive',\n",
              "                                                     [key], {});\n",
              "          if (!dataTable) return;\n",
              "\n",
              "          const docLinkHtml = 'Like what you see? Visit the ' +\n",
              "            '<a target=\"_blank\" href=https://colab.research.google.com/notebooks/data_table.ipynb>data table notebook</a>'\n",
              "            + ' to learn more about interactive tables.';\n",
              "          element.innerHTML = '';\n",
              "          dataTable['output_type'] = 'display_data';\n",
              "          await google.colab.output.renderOutput(dataTable, element);\n",
              "          const docLink = document.createElement('div');\n",
              "          docLink.innerHTML = docLinkHtml;\n",
              "          element.appendChild(docLink);\n",
              "        }\n",
              "      </script>\n",
              "    </div>\n",
              "  </div>\n",
              "  "
            ]
          },
          "metadata": {},
          "execution_count": 16
        }
      ]
    },
    {
      "cell_type": "markdown",
      "source": [
        "## 1.2 Understanding the data"
      ],
      "metadata": {
        "id": "Tk6axvx46H4x"
      }
    },
    {
      "cell_type": "code",
      "source": [
        "prev_ap_df.shape"
      ],
      "metadata": {
        "colab": {
          "base_uri": "https://localhost:8080/"
        },
        "id": "Ykj03zUN6G9K",
        "outputId": "e60e84d6-928c-40a5-8ea2-96abd918aaa6"
      },
      "execution_count": 17,
      "outputs": [
        {
          "output_type": "execute_result",
          "data": {
            "text/plain": [
              "(1670214, 37)"
            ]
          },
          "metadata": {},
          "execution_count": 17
        }
      ]
    },
    {
      "cell_type": "markdown",
      "source": [
        "###previous application dataset have 1670214 rows and 37 columns."
      ],
      "metadata": {
        "id": "CGNHnzx2PjiP"
      }
    },
    {
      "cell_type": "markdown",
      "source": [
        "###Now we are checking information of the previous application dataset"
      ],
      "metadata": {
        "id": "o-WuEC-3PzdH"
      }
    },
    {
      "cell_type": "code",
      "source": [
        "prev_ap_df.info('all')"
      ],
      "metadata": {
        "colab": {
          "base_uri": "https://localhost:8080/"
        },
        "id": "JbRUkpCo6SO1",
        "outputId": "47508825-d2ba-4c0d-b0bf-c1b0dc93e44f"
      },
      "execution_count": 18,
      "outputs": [
        {
          "output_type": "stream",
          "name": "stdout",
          "text": [
            "<class 'pandas.core.frame.DataFrame'>\n",
            "RangeIndex: 1670214 entries, 0 to 1670213\n",
            "Data columns (total 37 columns):\n",
            " #   Column                       Non-Null Count    Dtype  \n",
            "---  ------                       --------------    -----  \n",
            " 0   SK_ID_PREV                   1670214 non-null  int64  \n",
            " 1   SK_ID_CURR                   1670214 non-null  int64  \n",
            " 2   NAME_CONTRACT_TYPE           1670214 non-null  object \n",
            " 3   AMT_ANNUITY                  1297979 non-null  float64\n",
            " 4   AMT_APPLICATION              1670214 non-null  float64\n",
            " 5   AMT_CREDIT                   1670213 non-null  float64\n",
            " 6   AMT_DOWN_PAYMENT             774370 non-null   float64\n",
            " 7   AMT_GOODS_PRICE              1284699 non-null  float64\n",
            " 8   WEEKDAY_APPR_PROCESS_START   1670214 non-null  object \n",
            " 9   HOUR_APPR_PROCESS_START      1670214 non-null  int64  \n",
            " 10  FLAG_LAST_APPL_PER_CONTRACT  1670214 non-null  object \n",
            " 11  NFLAG_LAST_APPL_IN_DAY       1670214 non-null  int64  \n",
            " 12  RATE_DOWN_PAYMENT            774370 non-null   float64\n",
            " 13  RATE_INTEREST_PRIMARY        5951 non-null     float64\n",
            " 14  RATE_INTEREST_PRIVILEGED     5951 non-null     float64\n",
            " 15  NAME_CASH_LOAN_PURPOSE       1670214 non-null  object \n",
            " 16  NAME_CONTRACT_STATUS         1670214 non-null  object \n",
            " 17  DAYS_DECISION                1670214 non-null  int64  \n",
            " 18  NAME_PAYMENT_TYPE            1670214 non-null  object \n",
            " 19  CODE_REJECT_REASON           1670214 non-null  object \n",
            " 20  NAME_TYPE_SUITE              849809 non-null   object \n",
            " 21  NAME_CLIENT_TYPE             1670214 non-null  object \n",
            " 22  NAME_GOODS_CATEGORY          1670214 non-null  object \n",
            " 23  NAME_PORTFOLIO               1670214 non-null  object \n",
            " 24  NAME_PRODUCT_TYPE            1670214 non-null  object \n",
            " 25  CHANNEL_TYPE                 1670214 non-null  object \n",
            " 26  SELLERPLACE_AREA             1670214 non-null  int64  \n",
            " 27  NAME_SELLER_INDUSTRY         1670214 non-null  object \n",
            " 28  CNT_PAYMENT                  1297984 non-null  float64\n",
            " 29  NAME_YIELD_GROUP             1670214 non-null  object \n",
            " 30  PRODUCT_COMBINATION          1669868 non-null  object \n",
            " 31  DAYS_FIRST_DRAWING           997149 non-null   float64\n",
            " 32  DAYS_FIRST_DUE               997149 non-null   float64\n",
            " 33  DAYS_LAST_DUE_1ST_VERSION    997149 non-null   float64\n",
            " 34  DAYS_LAST_DUE                997149 non-null   float64\n",
            " 35  DAYS_TERMINATION             997149 non-null   float64\n",
            " 36  NFLAG_INSURED_ON_APPROVAL    997149 non-null   float64\n",
            "dtypes: float64(15), int64(6), object(16)\n",
            "memory usage: 471.5+ MB\n"
          ]
        }
      ]
    },
    {
      "cell_type": "markdown",
      "source": [
        "###* prev_ap_df contains 37 features and 1670214 rows\n",
        "(Out of which 15 features are float64, 6 features are integer, 16 features are object datatype)"
      ],
      "metadata": {
        "id": "v9zaJGP16j1x"
      }
    },
    {
      "cell_type": "code",
      "source": [
        "# Additional columns and common columns in application_df and prev_ap_df\n",
        "additional_feat = []\n",
        "common_feat = []\n",
        "\n",
        "for col in application_df.columns:\n",
        "    if col not in prev_ap_df.columns:\n",
        "        additional_feat.append(col)\n",
        "    else:\n",
        "        common_feat.append(col)\n",
        "        \n",
        "print(len(additional_feat))\n",
        "print(len(common_feat))\n",
        "print(common_feat)"
      ],
      "metadata": {
        "id": "sEJf74Rp6Wc8",
        "outputId": "1c99e8da-533c-4708-8438-09481afbc0d6",
        "colab": {
          "base_uri": "https://localhost:8080/"
        }
      },
      "execution_count": 19,
      "outputs": [
        {
          "output_type": "stream",
          "name": "stdout",
          "text": [
            "114\n",
            "8\n",
            "['SK_ID_CURR', 'NAME_CONTRACT_TYPE', 'AMT_CREDIT', 'AMT_ANNUITY', 'AMT_GOODS_PRICE', 'NAME_TYPE_SUITE', 'WEEKDAY_APPR_PROCESS_START', 'HOUR_APPR_PROCESS_START']\n"
          ]
        }
      ]
    },
    {
      "cell_type": "markdown",
      "source": [
        "###Insight:\n",
        "\n",
        "SK_ID_CURR is an unique identifier, which will use to merge the relevant columns of 2 dataframes"
      ],
      "metadata": {
        "id": "LAKQZqyHMsLD"
      }
    },
    {
      "cell_type": "markdown",
      "source": [
        "##Data Cleaning"
      ],
      "metadata": {
        "id": "qIqRVnz4RvYp"
      }
    },
    {
      "cell_type": "code",
      "source": [
        "# Function_name : missingdata_percentage\n",
        "# Usage : Returns % of missing values for all features in a DataFrame\n",
        "# Arguments : dataframe\n",
        "# Returns : a dataframe containing categories having missing values and % of missing values in those categories\n",
        "\n",
        "def missingdata_percentage(df):\n",
        "    missing = pd.DataFrame(columns=['category','percentage'])\n",
        "    for col in df.columns:\n",
        "        if df[col].isna().values.any():\n",
        "            percentage = 100*df[col].isna().sum()/df.shape[0]\n",
        "            missing = missing.append({'category' : col, 'percentage' : percentage}, ignore_index=True)\n",
        "    return missing\n",
        "missingdata_prev = missingdata_percentage(prev_ap_df)\n"
      ],
      "metadata": {
        "id": "ov8--2gMRq-L"
      },
      "execution_count": 20,
      "outputs": []
    },
    {
      "cell_type": "markdown",
      "source": [
        "###Now we are first arrage the columns in descending order which has highest null values "
      ],
      "metadata": {
        "id": "aGRoAX_PSJ33"
      }
    },
    {
      "cell_type": "code",
      "source": [
        "missingdata_prev.sort_values('percentage', ascending=False)"
      ],
      "metadata": {
        "id": "WDEPjRqJSD9I",
        "outputId": "9c2cc705-b46b-4913-96fe-529757723c2e",
        "colab": {
          "base_uri": "https://localhost:8080/",
          "height": 551
        }
      },
      "execution_count": 21,
      "outputs": [
        {
          "output_type": "execute_result",
          "data": {
            "text/plain": [
              "                     category  percentage\n",
              "5       RATE_INTEREST_PRIMARY   99.643698\n",
              "6    RATE_INTEREST_PRIVILEGED   99.643698\n",
              "2            AMT_DOWN_PAYMENT   53.636480\n",
              "4           RATE_DOWN_PAYMENT   53.636480\n",
              "7             NAME_TYPE_SUITE   49.119754\n",
              "10         DAYS_FIRST_DRAWING   40.298129\n",
              "11             DAYS_FIRST_DUE   40.298129\n",
              "12  DAYS_LAST_DUE_1ST_VERSION   40.298129\n",
              "13              DAYS_LAST_DUE   40.298129\n",
              "14           DAYS_TERMINATION   40.298129\n",
              "15  NFLAG_INSURED_ON_APPROVAL   40.298129\n",
              "3             AMT_GOODS_PRICE   23.081773\n",
              "0                 AMT_ANNUITY   22.286665\n",
              "8                 CNT_PAYMENT   22.286366\n",
              "9         PRODUCT_COMBINATION    0.020716\n",
              "1                  AMT_CREDIT    0.000060"
            ],
            "text/html": [
              "\n",
              "  <div id=\"df-0ed17c57-039a-4001-89f4-542f1bda0d53\">\n",
              "    <div class=\"colab-df-container\">\n",
              "      <div>\n",
              "<style scoped>\n",
              "    .dataframe tbody tr th:only-of-type {\n",
              "        vertical-align: middle;\n",
              "    }\n",
              "\n",
              "    .dataframe tbody tr th {\n",
              "        vertical-align: top;\n",
              "    }\n",
              "\n",
              "    .dataframe thead th {\n",
              "        text-align: right;\n",
              "    }\n",
              "</style>\n",
              "<table border=\"1\" class=\"dataframe\">\n",
              "  <thead>\n",
              "    <tr style=\"text-align: right;\">\n",
              "      <th></th>\n",
              "      <th>category</th>\n",
              "      <th>percentage</th>\n",
              "    </tr>\n",
              "  </thead>\n",
              "  <tbody>\n",
              "    <tr>\n",
              "      <th>5</th>\n",
              "      <td>RATE_INTEREST_PRIMARY</td>\n",
              "      <td>99.643698</td>\n",
              "    </tr>\n",
              "    <tr>\n",
              "      <th>6</th>\n",
              "      <td>RATE_INTEREST_PRIVILEGED</td>\n",
              "      <td>99.643698</td>\n",
              "    </tr>\n",
              "    <tr>\n",
              "      <th>2</th>\n",
              "      <td>AMT_DOWN_PAYMENT</td>\n",
              "      <td>53.636480</td>\n",
              "    </tr>\n",
              "    <tr>\n",
              "      <th>4</th>\n",
              "      <td>RATE_DOWN_PAYMENT</td>\n",
              "      <td>53.636480</td>\n",
              "    </tr>\n",
              "    <tr>\n",
              "      <th>7</th>\n",
              "      <td>NAME_TYPE_SUITE</td>\n",
              "      <td>49.119754</td>\n",
              "    </tr>\n",
              "    <tr>\n",
              "      <th>10</th>\n",
              "      <td>DAYS_FIRST_DRAWING</td>\n",
              "      <td>40.298129</td>\n",
              "    </tr>\n",
              "    <tr>\n",
              "      <th>11</th>\n",
              "      <td>DAYS_FIRST_DUE</td>\n",
              "      <td>40.298129</td>\n",
              "    </tr>\n",
              "    <tr>\n",
              "      <th>12</th>\n",
              "      <td>DAYS_LAST_DUE_1ST_VERSION</td>\n",
              "      <td>40.298129</td>\n",
              "    </tr>\n",
              "    <tr>\n",
              "      <th>13</th>\n",
              "      <td>DAYS_LAST_DUE</td>\n",
              "      <td>40.298129</td>\n",
              "    </tr>\n",
              "    <tr>\n",
              "      <th>14</th>\n",
              "      <td>DAYS_TERMINATION</td>\n",
              "      <td>40.298129</td>\n",
              "    </tr>\n",
              "    <tr>\n",
              "      <th>15</th>\n",
              "      <td>NFLAG_INSURED_ON_APPROVAL</td>\n",
              "      <td>40.298129</td>\n",
              "    </tr>\n",
              "    <tr>\n",
              "      <th>3</th>\n",
              "      <td>AMT_GOODS_PRICE</td>\n",
              "      <td>23.081773</td>\n",
              "    </tr>\n",
              "    <tr>\n",
              "      <th>0</th>\n",
              "      <td>AMT_ANNUITY</td>\n",
              "      <td>22.286665</td>\n",
              "    </tr>\n",
              "    <tr>\n",
              "      <th>8</th>\n",
              "      <td>CNT_PAYMENT</td>\n",
              "      <td>22.286366</td>\n",
              "    </tr>\n",
              "    <tr>\n",
              "      <th>9</th>\n",
              "      <td>PRODUCT_COMBINATION</td>\n",
              "      <td>0.020716</td>\n",
              "    </tr>\n",
              "    <tr>\n",
              "      <th>1</th>\n",
              "      <td>AMT_CREDIT</td>\n",
              "      <td>0.000060</td>\n",
              "    </tr>\n",
              "  </tbody>\n",
              "</table>\n",
              "</div>\n",
              "      <button class=\"colab-df-convert\" onclick=\"convertToInteractive('df-0ed17c57-039a-4001-89f4-542f1bda0d53')\"\n",
              "              title=\"Convert this dataframe to an interactive table.\"\n",
              "              style=\"display:none;\">\n",
              "        \n",
              "  <svg xmlns=\"http://www.w3.org/2000/svg\" height=\"24px\"viewBox=\"0 0 24 24\"\n",
              "       width=\"24px\">\n",
              "    <path d=\"M0 0h24v24H0V0z\" fill=\"none\"/>\n",
              "    <path d=\"M18.56 5.44l.94 2.06.94-2.06 2.06-.94-2.06-.94-.94-2.06-.94 2.06-2.06.94zm-11 1L8.5 8.5l.94-2.06 2.06-.94-2.06-.94L8.5 2.5l-.94 2.06-2.06.94zm10 10l.94 2.06.94-2.06 2.06-.94-2.06-.94-.94-2.06-.94 2.06-2.06.94z\"/><path d=\"M17.41 7.96l-1.37-1.37c-.4-.4-.92-.59-1.43-.59-.52 0-1.04.2-1.43.59L10.3 9.45l-7.72 7.72c-.78.78-.78 2.05 0 2.83L4 21.41c.39.39.9.59 1.41.59.51 0 1.02-.2 1.41-.59l7.78-7.78 2.81-2.81c.8-.78.8-2.07 0-2.86zM5.41 20L4 18.59l7.72-7.72 1.47 1.35L5.41 20z\"/>\n",
              "  </svg>\n",
              "      </button>\n",
              "      \n",
              "  <style>\n",
              "    .colab-df-container {\n",
              "      display:flex;\n",
              "      flex-wrap:wrap;\n",
              "      gap: 12px;\n",
              "    }\n",
              "\n",
              "    .colab-df-convert {\n",
              "      background-color: #E8F0FE;\n",
              "      border: none;\n",
              "      border-radius: 50%;\n",
              "      cursor: pointer;\n",
              "      display: none;\n",
              "      fill: #1967D2;\n",
              "      height: 32px;\n",
              "      padding: 0 0 0 0;\n",
              "      width: 32px;\n",
              "    }\n",
              "\n",
              "    .colab-df-convert:hover {\n",
              "      background-color: #E2EBFA;\n",
              "      box-shadow: 0px 1px 2px rgba(60, 64, 67, 0.3), 0px 1px 3px 1px rgba(60, 64, 67, 0.15);\n",
              "      fill: #174EA6;\n",
              "    }\n",
              "\n",
              "    [theme=dark] .colab-df-convert {\n",
              "      background-color: #3B4455;\n",
              "      fill: #D2E3FC;\n",
              "    }\n",
              "\n",
              "    [theme=dark] .colab-df-convert:hover {\n",
              "      background-color: #434B5C;\n",
              "      box-shadow: 0px 1px 3px 1px rgba(0, 0, 0, 0.15);\n",
              "      filter: drop-shadow(0px 1px 2px rgba(0, 0, 0, 0.3));\n",
              "      fill: #FFFFFF;\n",
              "    }\n",
              "  </style>\n",
              "\n",
              "      <script>\n",
              "        const buttonEl =\n",
              "          document.querySelector('#df-0ed17c57-039a-4001-89f4-542f1bda0d53 button.colab-df-convert');\n",
              "        buttonEl.style.display =\n",
              "          google.colab.kernel.accessAllowed ? 'block' : 'none';\n",
              "\n",
              "        async function convertToInteractive(key) {\n",
              "          const element = document.querySelector('#df-0ed17c57-039a-4001-89f4-542f1bda0d53');\n",
              "          const dataTable =\n",
              "            await google.colab.kernel.invokeFunction('convertToInteractive',\n",
              "                                                     [key], {});\n",
              "          if (!dataTable) return;\n",
              "\n",
              "          const docLinkHtml = 'Like what you see? Visit the ' +\n",
              "            '<a target=\"_blank\" href=https://colab.research.google.com/notebooks/data_table.ipynb>data table notebook</a>'\n",
              "            + ' to learn more about interactive tables.';\n",
              "          element.innerHTML = '';\n",
              "          dataTable['output_type'] = 'display_data';\n",
              "          await google.colab.output.renderOutput(dataTable, element);\n",
              "          const docLink = document.createElement('div');\n",
              "          docLink.innerHTML = docLinkHtml;\n",
              "          element.appendChild(docLink);\n",
              "        }\n",
              "      </script>\n",
              "    </div>\n",
              "  </div>\n",
              "  "
            ]
          },
          "metadata": {},
          "execution_count": 21
        }
      ]
    },
    {
      "cell_type": "markdown",
      "source": [
        "###Observation: There are 16 features in prev_app_df that have missing values.\n",
        "\n",
        "Permanently dropping the features (RATE_INTEREST_PRIMARY and RATE_INTEREST_PRIVILEGED) as 99% data is missing.\n",
        "\n",
        "Dropping rows containing missing values for the features(AMT_CREDIT and PRODUCT_COMBINATION) for very low % of missing data."
      ],
      "metadata": {
        "id": "iqbr1aEaSzmB"
      }
    },
    {
      "cell_type": "code",
      "source": [
        "prev_ap_df.drop(['RATE_INTEREST_PRIMARY','RATE_INTEREST_PRIVILEGED'], axis=1, inplace=True)\n",
        "prev_ap_df.dropna(subset=['AMT_CREDIT','PRODUCT_COMBINATION'], inplace=True)\n",
        "\n",
        "#Checking the remaining columns\n",
        "prev_ap_df"
      ],
      "metadata": {
        "id": "tlwpo1gaSIO7",
        "outputId": "91a973b2-04f3-4563-804b-611a3f2267c4",
        "colab": {
          "base_uri": "https://localhost:8080/",
          "height": 557
        }
      },
      "execution_count": 22,
      "outputs": [
        {
          "output_type": "execute_result",
          "data": {
            "text/plain": [
              "         SK_ID_PREV  SK_ID_CURR NAME_CONTRACT_TYPE  AMT_ANNUITY  \\\n",
              "0           2030495      271877     Consumer loans     1730.430   \n",
              "1           2802425      108129         Cash loans    25188.615   \n",
              "2           2523466      122040         Cash loans    15060.735   \n",
              "3           2819243      176158         Cash loans    47041.335   \n",
              "4           1784265      202054         Cash loans    31924.395   \n",
              "...             ...         ...                ...          ...   \n",
              "1670209     2300464      352015     Consumer loans    14704.290   \n",
              "1670210     2357031      334635     Consumer loans     6622.020   \n",
              "1670211     2659632      249544     Consumer loans    11520.855   \n",
              "1670212     2785582      400317         Cash loans    18821.520   \n",
              "1670213     2418762      261212         Cash loans    16431.300   \n",
              "\n",
              "         AMT_APPLICATION  AMT_CREDIT  AMT_DOWN_PAYMENT  AMT_GOODS_PRICE  \\\n",
              "0                17145.0     17145.0               0.0          17145.0   \n",
              "1               607500.0    679671.0               NaN         607500.0   \n",
              "2               112500.0    136444.5               NaN         112500.0   \n",
              "3               450000.0    470790.0               NaN         450000.0   \n",
              "4               337500.0    404055.0               NaN         337500.0   \n",
              "...                  ...         ...               ...              ...   \n",
              "1670209         267295.5    311400.0               0.0         267295.5   \n",
              "1670210          87750.0     64291.5           29250.0          87750.0   \n",
              "1670211         105237.0    102523.5           10525.5         105237.0   \n",
              "1670212         180000.0    191880.0               NaN         180000.0   \n",
              "1670213         360000.0    360000.0               NaN         360000.0   \n",
              "\n",
              "        WEEKDAY_APPR_PROCESS_START  HOUR_APPR_PROCESS_START  ...  \\\n",
              "0                         SATURDAY                       15  ...   \n",
              "1                         THURSDAY                       11  ...   \n",
              "2                          TUESDAY                       11  ...   \n",
              "3                           MONDAY                        7  ...   \n",
              "4                         THURSDAY                        9  ...   \n",
              "...                            ...                      ...  ...   \n",
              "1670209                  WEDNESDAY                       12  ...   \n",
              "1670210                    TUESDAY                       15  ...   \n",
              "1670211                     MONDAY                       12  ...   \n",
              "1670212                  WEDNESDAY                        9  ...   \n",
              "1670213                     SUNDAY                       10  ...   \n",
              "\n",
              "         NAME_SELLER_INDUSTRY  CNT_PAYMENT  NAME_YIELD_GROUP  \\\n",
              "0                Connectivity         12.0            middle   \n",
              "1                         XNA         36.0        low_action   \n",
              "2                         XNA         12.0              high   \n",
              "3                         XNA         12.0            middle   \n",
              "4                         XNA         24.0              high   \n",
              "...                       ...          ...               ...   \n",
              "1670209             Furniture         30.0        low_normal   \n",
              "1670210             Furniture         12.0            middle   \n",
              "1670211  Consumer electronics         10.0        low_normal   \n",
              "1670212                   XNA         12.0        low_normal   \n",
              "1670213                   XNA         48.0            middle   \n",
              "\n",
              "                 PRODUCT_COMBINATION DAYS_FIRST_DRAWING  DAYS_FIRST_DUE  \\\n",
              "0           POS mobile with interest           365243.0           -42.0   \n",
              "1                   Cash X-Sell: low           365243.0          -134.0   \n",
              "2                  Cash X-Sell: high           365243.0          -271.0   \n",
              "3                Cash X-Sell: middle           365243.0          -482.0   \n",
              "4                  Cash Street: high                NaN             NaN   \n",
              "...                              ...                ...             ...   \n",
              "1670209   POS industry with interest           365243.0          -508.0   \n",
              "1670210   POS industry with interest           365243.0         -1604.0   \n",
              "1670211  POS household with interest           365243.0         -1457.0   \n",
              "1670212             Cash X-Sell: low           365243.0         -1155.0   \n",
              "1670213          Cash X-Sell: middle           365243.0         -1163.0   \n",
              "\n",
              "        DAYS_LAST_DUE_1ST_VERSION DAYS_LAST_DUE DAYS_TERMINATION  \\\n",
              "0                           300.0         -42.0            -37.0   \n",
              "1                           916.0      365243.0         365243.0   \n",
              "2                            59.0      365243.0         365243.0   \n",
              "3                          -152.0        -182.0           -177.0   \n",
              "4                             NaN           NaN              NaN   \n",
              "...                           ...           ...              ...   \n",
              "1670209                     362.0        -358.0           -351.0   \n",
              "1670210                   -1274.0       -1304.0          -1297.0   \n",
              "1670211                   -1187.0       -1187.0          -1181.0   \n",
              "1670212                    -825.0        -825.0           -817.0   \n",
              "1670213                     247.0        -443.0           -423.0   \n",
              "\n",
              "        NFLAG_INSURED_ON_APPROVAL  \n",
              "0                             0.0  \n",
              "1                             1.0  \n",
              "2                             1.0  \n",
              "3                             1.0  \n",
              "4                             NaN  \n",
              "...                           ...  \n",
              "1670209                       0.0  \n",
              "1670210                       0.0  \n",
              "1670211                       0.0  \n",
              "1670212                       1.0  \n",
              "1670213                       0.0  \n",
              "\n",
              "[1669867 rows x 35 columns]"
            ],
            "text/html": [
              "\n",
              "  <div id=\"df-7e6af7f2-5bde-4c07-b372-f5e47248b492\">\n",
              "    <div class=\"colab-df-container\">\n",
              "      <div>\n",
              "<style scoped>\n",
              "    .dataframe tbody tr th:only-of-type {\n",
              "        vertical-align: middle;\n",
              "    }\n",
              "\n",
              "    .dataframe tbody tr th {\n",
              "        vertical-align: top;\n",
              "    }\n",
              "\n",
              "    .dataframe thead th {\n",
              "        text-align: right;\n",
              "    }\n",
              "</style>\n",
              "<table border=\"1\" class=\"dataframe\">\n",
              "  <thead>\n",
              "    <tr style=\"text-align: right;\">\n",
              "      <th></th>\n",
              "      <th>SK_ID_PREV</th>\n",
              "      <th>SK_ID_CURR</th>\n",
              "      <th>NAME_CONTRACT_TYPE</th>\n",
              "      <th>AMT_ANNUITY</th>\n",
              "      <th>AMT_APPLICATION</th>\n",
              "      <th>AMT_CREDIT</th>\n",
              "      <th>AMT_DOWN_PAYMENT</th>\n",
              "      <th>AMT_GOODS_PRICE</th>\n",
              "      <th>WEEKDAY_APPR_PROCESS_START</th>\n",
              "      <th>HOUR_APPR_PROCESS_START</th>\n",
              "      <th>...</th>\n",
              "      <th>NAME_SELLER_INDUSTRY</th>\n",
              "      <th>CNT_PAYMENT</th>\n",
              "      <th>NAME_YIELD_GROUP</th>\n",
              "      <th>PRODUCT_COMBINATION</th>\n",
              "      <th>DAYS_FIRST_DRAWING</th>\n",
              "      <th>DAYS_FIRST_DUE</th>\n",
              "      <th>DAYS_LAST_DUE_1ST_VERSION</th>\n",
              "      <th>DAYS_LAST_DUE</th>\n",
              "      <th>DAYS_TERMINATION</th>\n",
              "      <th>NFLAG_INSURED_ON_APPROVAL</th>\n",
              "    </tr>\n",
              "  </thead>\n",
              "  <tbody>\n",
              "    <tr>\n",
              "      <th>0</th>\n",
              "      <td>2030495</td>\n",
              "      <td>271877</td>\n",
              "      <td>Consumer loans</td>\n",
              "      <td>1730.430</td>\n",
              "      <td>17145.0</td>\n",
              "      <td>17145.0</td>\n",
              "      <td>0.0</td>\n",
              "      <td>17145.0</td>\n",
              "      <td>SATURDAY</td>\n",
              "      <td>15</td>\n",
              "      <td>...</td>\n",
              "      <td>Connectivity</td>\n",
              "      <td>12.0</td>\n",
              "      <td>middle</td>\n",
              "      <td>POS mobile with interest</td>\n",
              "      <td>365243.0</td>\n",
              "      <td>-42.0</td>\n",
              "      <td>300.0</td>\n",
              "      <td>-42.0</td>\n",
              "      <td>-37.0</td>\n",
              "      <td>0.0</td>\n",
              "    </tr>\n",
              "    <tr>\n",
              "      <th>1</th>\n",
              "      <td>2802425</td>\n",
              "      <td>108129</td>\n",
              "      <td>Cash loans</td>\n",
              "      <td>25188.615</td>\n",
              "      <td>607500.0</td>\n",
              "      <td>679671.0</td>\n",
              "      <td>NaN</td>\n",
              "      <td>607500.0</td>\n",
              "      <td>THURSDAY</td>\n",
              "      <td>11</td>\n",
              "      <td>...</td>\n",
              "      <td>XNA</td>\n",
              "      <td>36.0</td>\n",
              "      <td>low_action</td>\n",
              "      <td>Cash X-Sell: low</td>\n",
              "      <td>365243.0</td>\n",
              "      <td>-134.0</td>\n",
              "      <td>916.0</td>\n",
              "      <td>365243.0</td>\n",
              "      <td>365243.0</td>\n",
              "      <td>1.0</td>\n",
              "    </tr>\n",
              "    <tr>\n",
              "      <th>2</th>\n",
              "      <td>2523466</td>\n",
              "      <td>122040</td>\n",
              "      <td>Cash loans</td>\n",
              "      <td>15060.735</td>\n",
              "      <td>112500.0</td>\n",
              "      <td>136444.5</td>\n",
              "      <td>NaN</td>\n",
              "      <td>112500.0</td>\n",
              "      <td>TUESDAY</td>\n",
              "      <td>11</td>\n",
              "      <td>...</td>\n",
              "      <td>XNA</td>\n",
              "      <td>12.0</td>\n",
              "      <td>high</td>\n",
              "      <td>Cash X-Sell: high</td>\n",
              "      <td>365243.0</td>\n",
              "      <td>-271.0</td>\n",
              "      <td>59.0</td>\n",
              "      <td>365243.0</td>\n",
              "      <td>365243.0</td>\n",
              "      <td>1.0</td>\n",
              "    </tr>\n",
              "    <tr>\n",
              "      <th>3</th>\n",
              "      <td>2819243</td>\n",
              "      <td>176158</td>\n",
              "      <td>Cash loans</td>\n",
              "      <td>47041.335</td>\n",
              "      <td>450000.0</td>\n",
              "      <td>470790.0</td>\n",
              "      <td>NaN</td>\n",
              "      <td>450000.0</td>\n",
              "      <td>MONDAY</td>\n",
              "      <td>7</td>\n",
              "      <td>...</td>\n",
              "      <td>XNA</td>\n",
              "      <td>12.0</td>\n",
              "      <td>middle</td>\n",
              "      <td>Cash X-Sell: middle</td>\n",
              "      <td>365243.0</td>\n",
              "      <td>-482.0</td>\n",
              "      <td>-152.0</td>\n",
              "      <td>-182.0</td>\n",
              "      <td>-177.0</td>\n",
              "      <td>1.0</td>\n",
              "    </tr>\n",
              "    <tr>\n",
              "      <th>4</th>\n",
              "      <td>1784265</td>\n",
              "      <td>202054</td>\n",
              "      <td>Cash loans</td>\n",
              "      <td>31924.395</td>\n",
              "      <td>337500.0</td>\n",
              "      <td>404055.0</td>\n",
              "      <td>NaN</td>\n",
              "      <td>337500.0</td>\n",
              "      <td>THURSDAY</td>\n",
              "      <td>9</td>\n",
              "      <td>...</td>\n",
              "      <td>XNA</td>\n",
              "      <td>24.0</td>\n",
              "      <td>high</td>\n",
              "      <td>Cash Street: high</td>\n",
              "      <td>NaN</td>\n",
              "      <td>NaN</td>\n",
              "      <td>NaN</td>\n",
              "      <td>NaN</td>\n",
              "      <td>NaN</td>\n",
              "      <td>NaN</td>\n",
              "    </tr>\n",
              "    <tr>\n",
              "      <th>...</th>\n",
              "      <td>...</td>\n",
              "      <td>...</td>\n",
              "      <td>...</td>\n",
              "      <td>...</td>\n",
              "      <td>...</td>\n",
              "      <td>...</td>\n",
              "      <td>...</td>\n",
              "      <td>...</td>\n",
              "      <td>...</td>\n",
              "      <td>...</td>\n",
              "      <td>...</td>\n",
              "      <td>...</td>\n",
              "      <td>...</td>\n",
              "      <td>...</td>\n",
              "      <td>...</td>\n",
              "      <td>...</td>\n",
              "      <td>...</td>\n",
              "      <td>...</td>\n",
              "      <td>...</td>\n",
              "      <td>...</td>\n",
              "      <td>...</td>\n",
              "    </tr>\n",
              "    <tr>\n",
              "      <th>1670209</th>\n",
              "      <td>2300464</td>\n",
              "      <td>352015</td>\n",
              "      <td>Consumer loans</td>\n",
              "      <td>14704.290</td>\n",
              "      <td>267295.5</td>\n",
              "      <td>311400.0</td>\n",
              "      <td>0.0</td>\n",
              "      <td>267295.5</td>\n",
              "      <td>WEDNESDAY</td>\n",
              "      <td>12</td>\n",
              "      <td>...</td>\n",
              "      <td>Furniture</td>\n",
              "      <td>30.0</td>\n",
              "      <td>low_normal</td>\n",
              "      <td>POS industry with interest</td>\n",
              "      <td>365243.0</td>\n",
              "      <td>-508.0</td>\n",
              "      <td>362.0</td>\n",
              "      <td>-358.0</td>\n",
              "      <td>-351.0</td>\n",
              "      <td>0.0</td>\n",
              "    </tr>\n",
              "    <tr>\n",
              "      <th>1670210</th>\n",
              "      <td>2357031</td>\n",
              "      <td>334635</td>\n",
              "      <td>Consumer loans</td>\n",
              "      <td>6622.020</td>\n",
              "      <td>87750.0</td>\n",
              "      <td>64291.5</td>\n",
              "      <td>29250.0</td>\n",
              "      <td>87750.0</td>\n",
              "      <td>TUESDAY</td>\n",
              "      <td>15</td>\n",
              "      <td>...</td>\n",
              "      <td>Furniture</td>\n",
              "      <td>12.0</td>\n",
              "      <td>middle</td>\n",
              "      <td>POS industry with interest</td>\n",
              "      <td>365243.0</td>\n",
              "      <td>-1604.0</td>\n",
              "      <td>-1274.0</td>\n",
              "      <td>-1304.0</td>\n",
              "      <td>-1297.0</td>\n",
              "      <td>0.0</td>\n",
              "    </tr>\n",
              "    <tr>\n",
              "      <th>1670211</th>\n",
              "      <td>2659632</td>\n",
              "      <td>249544</td>\n",
              "      <td>Consumer loans</td>\n",
              "      <td>11520.855</td>\n",
              "      <td>105237.0</td>\n",
              "      <td>102523.5</td>\n",
              "      <td>10525.5</td>\n",
              "      <td>105237.0</td>\n",
              "      <td>MONDAY</td>\n",
              "      <td>12</td>\n",
              "      <td>...</td>\n",
              "      <td>Consumer electronics</td>\n",
              "      <td>10.0</td>\n",
              "      <td>low_normal</td>\n",
              "      <td>POS household with interest</td>\n",
              "      <td>365243.0</td>\n",
              "      <td>-1457.0</td>\n",
              "      <td>-1187.0</td>\n",
              "      <td>-1187.0</td>\n",
              "      <td>-1181.0</td>\n",
              "      <td>0.0</td>\n",
              "    </tr>\n",
              "    <tr>\n",
              "      <th>1670212</th>\n",
              "      <td>2785582</td>\n",
              "      <td>400317</td>\n",
              "      <td>Cash loans</td>\n",
              "      <td>18821.520</td>\n",
              "      <td>180000.0</td>\n",
              "      <td>191880.0</td>\n",
              "      <td>NaN</td>\n",
              "      <td>180000.0</td>\n",
              "      <td>WEDNESDAY</td>\n",
              "      <td>9</td>\n",
              "      <td>...</td>\n",
              "      <td>XNA</td>\n",
              "      <td>12.0</td>\n",
              "      <td>low_normal</td>\n",
              "      <td>Cash X-Sell: low</td>\n",
              "      <td>365243.0</td>\n",
              "      <td>-1155.0</td>\n",
              "      <td>-825.0</td>\n",
              "      <td>-825.0</td>\n",
              "      <td>-817.0</td>\n",
              "      <td>1.0</td>\n",
              "    </tr>\n",
              "    <tr>\n",
              "      <th>1670213</th>\n",
              "      <td>2418762</td>\n",
              "      <td>261212</td>\n",
              "      <td>Cash loans</td>\n",
              "      <td>16431.300</td>\n",
              "      <td>360000.0</td>\n",
              "      <td>360000.0</td>\n",
              "      <td>NaN</td>\n",
              "      <td>360000.0</td>\n",
              "      <td>SUNDAY</td>\n",
              "      <td>10</td>\n",
              "      <td>...</td>\n",
              "      <td>XNA</td>\n",
              "      <td>48.0</td>\n",
              "      <td>middle</td>\n",
              "      <td>Cash X-Sell: middle</td>\n",
              "      <td>365243.0</td>\n",
              "      <td>-1163.0</td>\n",
              "      <td>247.0</td>\n",
              "      <td>-443.0</td>\n",
              "      <td>-423.0</td>\n",
              "      <td>0.0</td>\n",
              "    </tr>\n",
              "  </tbody>\n",
              "</table>\n",
              "<p>1669867 rows × 35 columns</p>\n",
              "</div>\n",
              "      <button class=\"colab-df-convert\" onclick=\"convertToInteractive('df-7e6af7f2-5bde-4c07-b372-f5e47248b492')\"\n",
              "              title=\"Convert this dataframe to an interactive table.\"\n",
              "              style=\"display:none;\">\n",
              "        \n",
              "  <svg xmlns=\"http://www.w3.org/2000/svg\" height=\"24px\"viewBox=\"0 0 24 24\"\n",
              "       width=\"24px\">\n",
              "    <path d=\"M0 0h24v24H0V0z\" fill=\"none\"/>\n",
              "    <path d=\"M18.56 5.44l.94 2.06.94-2.06 2.06-.94-2.06-.94-.94-2.06-.94 2.06-2.06.94zm-11 1L8.5 8.5l.94-2.06 2.06-.94-2.06-.94L8.5 2.5l-.94 2.06-2.06.94zm10 10l.94 2.06.94-2.06 2.06-.94-2.06-.94-.94-2.06-.94 2.06-2.06.94z\"/><path d=\"M17.41 7.96l-1.37-1.37c-.4-.4-.92-.59-1.43-.59-.52 0-1.04.2-1.43.59L10.3 9.45l-7.72 7.72c-.78.78-.78 2.05 0 2.83L4 21.41c.39.39.9.59 1.41.59.51 0 1.02-.2 1.41-.59l7.78-7.78 2.81-2.81c.8-.78.8-2.07 0-2.86zM5.41 20L4 18.59l7.72-7.72 1.47 1.35L5.41 20z\"/>\n",
              "  </svg>\n",
              "      </button>\n",
              "      \n",
              "  <style>\n",
              "    .colab-df-container {\n",
              "      display:flex;\n",
              "      flex-wrap:wrap;\n",
              "      gap: 12px;\n",
              "    }\n",
              "\n",
              "    .colab-df-convert {\n",
              "      background-color: #E8F0FE;\n",
              "      border: none;\n",
              "      border-radius: 50%;\n",
              "      cursor: pointer;\n",
              "      display: none;\n",
              "      fill: #1967D2;\n",
              "      height: 32px;\n",
              "      padding: 0 0 0 0;\n",
              "      width: 32px;\n",
              "    }\n",
              "\n",
              "    .colab-df-convert:hover {\n",
              "      background-color: #E2EBFA;\n",
              "      box-shadow: 0px 1px 2px rgba(60, 64, 67, 0.3), 0px 1px 3px 1px rgba(60, 64, 67, 0.15);\n",
              "      fill: #174EA6;\n",
              "    }\n",
              "\n",
              "    [theme=dark] .colab-df-convert {\n",
              "      background-color: #3B4455;\n",
              "      fill: #D2E3FC;\n",
              "    }\n",
              "\n",
              "    [theme=dark] .colab-df-convert:hover {\n",
              "      background-color: #434B5C;\n",
              "      box-shadow: 0px 1px 3px 1px rgba(0, 0, 0, 0.15);\n",
              "      filter: drop-shadow(0px 1px 2px rgba(0, 0, 0, 0.3));\n",
              "      fill: #FFFFFF;\n",
              "    }\n",
              "  </style>\n",
              "\n",
              "      <script>\n",
              "        const buttonEl =\n",
              "          document.querySelector('#df-7e6af7f2-5bde-4c07-b372-f5e47248b492 button.colab-df-convert');\n",
              "        buttonEl.style.display =\n",
              "          google.colab.kernel.accessAllowed ? 'block' : 'none';\n",
              "\n",
              "        async function convertToInteractive(key) {\n",
              "          const element = document.querySelector('#df-7e6af7f2-5bde-4c07-b372-f5e47248b492');\n",
              "          const dataTable =\n",
              "            await google.colab.kernel.invokeFunction('convertToInteractive',\n",
              "                                                     [key], {});\n",
              "          if (!dataTable) return;\n",
              "\n",
              "          const docLinkHtml = 'Like what you see? Visit the ' +\n",
              "            '<a target=\"_blank\" href=https://colab.research.google.com/notebooks/data_table.ipynb>data table notebook</a>'\n",
              "            + ' to learn more about interactive tables.';\n",
              "          element.innerHTML = '';\n",
              "          dataTable['output_type'] = 'display_data';\n",
              "          await google.colab.output.renderOutput(dataTable, element);\n",
              "          const docLink = document.createElement('div');\n",
              "          docLink.innerHTML = docLinkHtml;\n",
              "          element.appendChild(docLink);\n",
              "        }\n",
              "      </script>\n",
              "    </div>\n",
              "  </div>\n",
              "  "
            ]
          },
          "metadata": {},
          "execution_count": 22
        }
      ]
    },
    {
      "cell_type": "markdown",
      "source": [
        "###Extracting the numeric features from previous application data"
      ],
      "metadata": {
        "id": "ZhxUCLu9TLJs"
      }
    },
    {
      "cell_type": "code",
      "source": [
        "numeric_features = []\n",
        "for col in prev_ap_df.columns:\n",
        "    if prev_ap_df[col].dtype == float or prev_ap_df[col].dtype == int:\n",
        "        numeric_features.append(col)\n",
        "        \n",
        "print(numeric_features)"
      ],
      "metadata": {
        "id": "Wr6IvcR2TCVJ",
        "outputId": "464d445e-43d6-475c-d59d-3cfc8f1eb2c8",
        "colab": {
          "base_uri": "https://localhost:8080/"
        }
      },
      "execution_count": 23,
      "outputs": [
        {
          "output_type": "stream",
          "name": "stdout",
          "text": [
            "['SK_ID_PREV', 'SK_ID_CURR', 'AMT_ANNUITY', 'AMT_APPLICATION', 'AMT_CREDIT', 'AMT_DOWN_PAYMENT', 'AMT_GOODS_PRICE', 'HOUR_APPR_PROCESS_START', 'NFLAG_LAST_APPL_IN_DAY', 'RATE_DOWN_PAYMENT', 'DAYS_DECISION', 'SELLERPLACE_AREA', 'CNT_PAYMENT', 'DAYS_FIRST_DRAWING', 'DAYS_FIRST_DUE', 'DAYS_LAST_DUE_1ST_VERSION', 'DAYS_LAST_DUE', 'DAYS_TERMINATION', 'NFLAG_INSURED_ON_APPROVAL']\n"
          ]
        }
      ]
    },
    {
      "cell_type": "markdown",
      "source": [
        "We are make one dataframe **prev_num_df** from **prev_ap_df** which has numeric features."
      ],
      "metadata": {
        "id": "AbrRlsgqTkTO"
      }
    },
    {
      "cell_type": "code",
      "source": [
        "prev_num_df = pd.DataFrame()\n",
        "\n",
        "for col in numeric_features:\n",
        "    prev_num_df[col] = prev_ap_df[col]\n",
        "\n",
        "\n",
        "#information of the new created dataframe prev_num_df.info()\n",
        "prev_num_df.info()\n",
        "\n",
        "#prev_num_df have 13 float datatype and 6 int datatype"
      ],
      "metadata": {
        "id": "p-qS94isTiz3",
        "outputId": "07c6187b-e1ea-447e-d3fb-bb938e89e551",
        "colab": {
          "base_uri": "https://localhost:8080/"
        }
      },
      "execution_count": 24,
      "outputs": [
        {
          "output_type": "stream",
          "name": "stdout",
          "text": [
            "<class 'pandas.core.frame.DataFrame'>\n",
            "Int64Index: 1669867 entries, 0 to 1670213\n",
            "Data columns (total 19 columns):\n",
            " #   Column                     Non-Null Count    Dtype  \n",
            "---  ------                     --------------    -----  \n",
            " 0   SK_ID_PREV                 1669867 non-null  int64  \n",
            " 1   SK_ID_CURR                 1669867 non-null  int64  \n",
            " 2   AMT_ANNUITY                1297978 non-null  float64\n",
            " 3   AMT_APPLICATION            1669867 non-null  float64\n",
            " 4   AMT_CREDIT                 1669867 non-null  float64\n",
            " 5   AMT_DOWN_PAYMENT           774370 non-null   float64\n",
            " 6   AMT_GOODS_PRICE            1284699 non-null  float64\n",
            " 7   HOUR_APPR_PROCESS_START    1669867 non-null  int64  \n",
            " 8   NFLAG_LAST_APPL_IN_DAY     1669867 non-null  int64  \n",
            " 9   RATE_DOWN_PAYMENT          774370 non-null   float64\n",
            " 10  DAYS_DECISION              1669867 non-null  int64  \n",
            " 11  SELLERPLACE_AREA           1669867 non-null  int64  \n",
            " 12  CNT_PAYMENT                1297983 non-null  float64\n",
            " 13  DAYS_FIRST_DRAWING         997149 non-null   float64\n",
            " 14  DAYS_FIRST_DUE             997149 non-null   float64\n",
            " 15  DAYS_LAST_DUE_1ST_VERSION  997149 non-null   float64\n",
            " 16  DAYS_LAST_DUE              997149 non-null   float64\n",
            " 17  DAYS_TERMINATION           997149 non-null   float64\n",
            " 18  NFLAG_INSURED_ON_APPROVAL  997149 non-null   float64\n",
            "dtypes: float64(13), int64(6)\n",
            "memory usage: 254.8 MB\n"
          ]
        }
      ]
    },
    {
      "cell_type": "code",
      "source": [
        "# Checking correlation between numeric features of previous application data\n",
        "\n",
        "plt.figure(figsize=(18,10))\n",
        "sns.heatmap(prev_num_df.corr(), annot=True)\n",
        "plt.show()"
      ],
      "metadata": {
        "id": "upJYLOnqTjc8",
        "outputId": "43b1e4df-23aa-4056-9d70-17daa1209b17",
        "colab": {
          "base_uri": "https://localhost:8080/",
          "height": 746
        }
      },
      "execution_count": 26,
      "outputs": [
        {
          "output_type": "display_data",
          "data": {
            "text/plain": [
              "<Figure size 1296x720 with 2 Axes>"
            ],
            "image/png": "[encoded data removed]"
          },
          "metadata": {
            "needs_background": "light"
          }
        }
      ]
    },
    {
      "cell_type": "markdown",
      "source": [
        "###**Insight**:\n",
        "\n",
        "* '**DAYS_LAST_DUE**' and '**DAYS_TERMINATION**' are highly correlated\n",
        "* '**DAYS_FIRST_DRAWING**' and '**DAYS_LAST_DUE_1st_VERSION**' have high negative correlation\n",
        "* '**AMT_ANNUITY**','**AMT_APPLICATION**','**AMT_CREDIT**','AMT_GOODS_PRICE' are highly correlated"
      ],
      "metadata": {
        "id": "E2E2aC9-XJxZ"
      }
    },
    {
      "cell_type": "markdown",
      "source": [
        "###The features can be removed before modelling this data, as they would cause collinearity \n",
        "\n",
        "###'**DAYS_TERMINATION**','**DAYS_LAST_DUE_1st_VERSION**','**AMT_APPLICATION**','**AMT_CREDIT**','**AMT_GOODS_PRICE**' For EDA purpose we are not removing them."
      ],
      "metadata": {
        "id": "h292BD2bXzNK"
      }
    },
    {
      "cell_type": "code",
      "source": [
        "prev_ap_df.head()"
      ],
      "metadata": {
        "id": "s_r_j0ijYt8C",
        "outputId": "e35cf1b7-6398-440c-8f5b-82b841aeaad7",
        "colab": {
          "base_uri": "https://localhost:8080/",
          "height": 317
        }
      },
      "execution_count": 28,
      "outputs": [
        {
          "output_type": "execute_result",
          "data": {
            "text/plain": [
              "   SK_ID_PREV  SK_ID_CURR NAME_CONTRACT_TYPE  AMT_ANNUITY  AMT_APPLICATION  \\\n",
              "0     2030495      271877     Consumer loans     1730.430          17145.0   \n",
              "1     2802425      108129         Cash loans    25188.615         607500.0   \n",
              "2     2523466      122040         Cash loans    15060.735         112500.0   \n",
              "3     2819243      176158         Cash loans    47041.335         450000.0   \n",
              "4     1784265      202054         Cash loans    31924.395         337500.0   \n",
              "\n",
              "   AMT_CREDIT  AMT_DOWN_PAYMENT  AMT_GOODS_PRICE WEEKDAY_APPR_PROCESS_START  \\\n",
              "0     17145.0               0.0          17145.0                   SATURDAY   \n",
              "1    679671.0               NaN         607500.0                   THURSDAY   \n",
              "2    136444.5               NaN         112500.0                    TUESDAY   \n",
              "3    470790.0               NaN         450000.0                     MONDAY   \n",
              "4    404055.0               NaN         337500.0                   THURSDAY   \n",
              "\n",
              "   HOUR_APPR_PROCESS_START  ... NAME_SELLER_INDUSTRY  CNT_PAYMENT  \\\n",
              "0                       15  ...         Connectivity         12.0   \n",
              "1                       11  ...                  XNA         36.0   \n",
              "2                       11  ...                  XNA         12.0   \n",
              "3                        7  ...                  XNA         12.0   \n",
              "4                        9  ...                  XNA         24.0   \n",
              "\n",
              "   NAME_YIELD_GROUP       PRODUCT_COMBINATION DAYS_FIRST_DRAWING  \\\n",
              "0            middle  POS mobile with interest           365243.0   \n",
              "1        low_action          Cash X-Sell: low           365243.0   \n",
              "2              high         Cash X-Sell: high           365243.0   \n",
              "3            middle       Cash X-Sell: middle           365243.0   \n",
              "4              high         Cash Street: high                NaN   \n",
              "\n",
              "   DAYS_FIRST_DUE DAYS_LAST_DUE_1ST_VERSION DAYS_LAST_DUE DAYS_TERMINATION  \\\n",
              "0           -42.0                     300.0         -42.0            -37.0   \n",
              "1          -134.0                     916.0      365243.0         365243.0   \n",
              "2          -271.0                      59.0      365243.0         365243.0   \n",
              "3          -482.0                    -152.0        -182.0           -177.0   \n",
              "4             NaN                       NaN           NaN              NaN   \n",
              "\n",
              "  NFLAG_INSURED_ON_APPROVAL  \n",
              "0                       0.0  \n",
              "1                       1.0  \n",
              "2                       1.0  \n",
              "3                       1.0  \n",
              "4                       NaN  \n",
              "\n",
              "[5 rows x 35 columns]"
            ],
            "text/html": [
              "\n",
              "  <div id=\"df-85f27be0-da21-4834-bf2b-9891c0c8426c\">\n",
              "    <div class=\"colab-df-container\">\n",
              "      <div>\n",
              "<style scoped>\n",
              "    .dataframe tbody tr th:only-of-type {\n",
              "        vertical-align: middle;\n",
              "    }\n",
              "\n",
              "    .dataframe tbody tr th {\n",
              "        vertical-align: top;\n",
              "    }\n",
              "\n",
              "    .dataframe thead th {\n",
              "        text-align: right;\n",
              "    }\n",
              "</style>\n",
              "<table border=\"1\" class=\"dataframe\">\n",
              "  <thead>\n",
              "    <tr style=\"text-align: right;\">\n",
              "      <th></th>\n",
              "      <th>SK_ID_PREV</th>\n",
              "      <th>SK_ID_CURR</th>\n",
              "      <th>NAME_CONTRACT_TYPE</th>\n",
              "      <th>AMT_ANNUITY</th>\n",
              "      <th>AMT_APPLICATION</th>\n",
              "      <th>AMT_CREDIT</th>\n",
              "      <th>AMT_DOWN_PAYMENT</th>\n",
              "      <th>AMT_GOODS_PRICE</th>\n",
              "      <th>WEEKDAY_APPR_PROCESS_START</th>\n",
              "      <th>HOUR_APPR_PROCESS_START</th>\n",
              "      <th>...</th>\n",
              "      <th>NAME_SELLER_INDUSTRY</th>\n",
              "      <th>CNT_PAYMENT</th>\n",
              "      <th>NAME_YIELD_GROUP</th>\n",
              "      <th>PRODUCT_COMBINATION</th>\n",
              "      <th>DAYS_FIRST_DRAWING</th>\n",
              "      <th>DAYS_FIRST_DUE</th>\n",
              "      <th>DAYS_LAST_DUE_1ST_VERSION</th>\n",
              "      <th>DAYS_LAST_DUE</th>\n",
              "      <th>DAYS_TERMINATION</th>\n",
              "      <th>NFLAG_INSURED_ON_APPROVAL</th>\n",
              "    </tr>\n",
              "  </thead>\n",
              "  <tbody>\n",
              "    <tr>\n",
              "      <th>0</th>\n",
              "      <td>2030495</td>\n",
              "      <td>271877</td>\n",
              "      <td>Consumer loans</td>\n",
              "      <td>1730.430</td>\n",
              "      <td>17145.0</td>\n",
              "      <td>17145.0</td>\n",
              "      <td>0.0</td>\n",
              "      <td>17145.0</td>\n",
              "      <td>SATURDAY</td>\n",
              "      <td>15</td>\n",
              "      <td>...</td>\n",
              "      <td>Connectivity</td>\n",
              "      <td>12.0</td>\n",
              "      <td>middle</td>\n",
              "      <td>POS mobile with interest</td>\n",
              "      <td>365243.0</td>\n",
              "      <td>-42.0</td>\n",
              "      <td>300.0</td>\n",
              "      <td>-42.0</td>\n",
              "      <td>-37.0</td>\n",
              "      <td>0.0</td>\n",
              "    </tr>\n",
              "    <tr>\n",
              "      <th>1</th>\n",
              "      <td>2802425</td>\n",
              "      <td>108129</td>\n",
              "      <td>Cash loans</td>\n",
              "      <td>25188.615</td>\n",
              "      <td>607500.0</td>\n",
              "      <td>679671.0</td>\n",
              "      <td>NaN</td>\n",
              "      <td>607500.0</td>\n",
              "      <td>THURSDAY</td>\n",
              "      <td>11</td>\n",
              "      <td>...</td>\n",
              "      <td>XNA</td>\n",
              "      <td>36.0</td>\n",
              "      <td>low_action</td>\n",
              "      <td>Cash X-Sell: low</td>\n",
              "      <td>365243.0</td>\n",
              "      <td>-134.0</td>\n",
              "      <td>916.0</td>\n",
              "      <td>365243.0</td>\n",
              "      <td>365243.0</td>\n",
              "      <td>1.0</td>\n",
              "    </tr>\n",
              "    <tr>\n",
              "      <th>2</th>\n",
              "      <td>2523466</td>\n",
              "      <td>122040</td>\n",
              "      <td>Cash loans</td>\n",
              "      <td>15060.735</td>\n",
              "      <td>112500.0</td>\n",
              "      <td>136444.5</td>\n",
              "      <td>NaN</td>\n",
              "      <td>112500.0</td>\n",
              "      <td>TUESDAY</td>\n",
              "      <td>11</td>\n",
              "      <td>...</td>\n",
              "      <td>XNA</td>\n",
              "      <td>12.0</td>\n",
              "      <td>high</td>\n",
              "      <td>Cash X-Sell: high</td>\n",
              "      <td>365243.0</td>\n",
              "      <td>-271.0</td>\n",
              "      <td>59.0</td>\n",
              "      <td>365243.0</td>\n",
              "      <td>365243.0</td>\n",
              "      <td>1.0</td>\n",
              "    </tr>\n",
              "    <tr>\n",
              "      <th>3</th>\n",
              "      <td>2819243</td>\n",
              "      <td>176158</td>\n",
              "      <td>Cash loans</td>\n",
              "      <td>47041.335</td>\n",
              "      <td>450000.0</td>\n",
              "      <td>470790.0</td>\n",
              "      <td>NaN</td>\n",
              "      <td>450000.0</td>\n",
              "      <td>MONDAY</td>\n",
              "      <td>7</td>\n",
              "      <td>...</td>\n",
              "      <td>XNA</td>\n",
              "      <td>12.0</td>\n",
              "      <td>middle</td>\n",
              "      <td>Cash X-Sell: middle</td>\n",
              "      <td>365243.0</td>\n",
              "      <td>-482.0</td>\n",
              "      <td>-152.0</td>\n",
              "      <td>-182.0</td>\n",
              "      <td>-177.0</td>\n",
              "      <td>1.0</td>\n",
              "    </tr>\n",
              "    <tr>\n",
              "      <th>4</th>\n",
              "      <td>1784265</td>\n",
              "      <td>202054</td>\n",
              "      <td>Cash loans</td>\n",
              "      <td>31924.395</td>\n",
              "      <td>337500.0</td>\n",
              "      <td>404055.0</td>\n",
              "      <td>NaN</td>\n",
              "      <td>337500.0</td>\n",
              "      <td>THURSDAY</td>\n",
              "      <td>9</td>\n",
              "      <td>...</td>\n",
              "      <td>XNA</td>\n",
              "      <td>24.0</td>\n",
              "      <td>high</td>\n",
              "      <td>Cash Street: high</td>\n",
              "      <td>NaN</td>\n",
              "      <td>NaN</td>\n",
              "      <td>NaN</td>\n",
              "      <td>NaN</td>\n",
              "      <td>NaN</td>\n",
              "      <td>NaN</td>\n",
              "    </tr>\n",
              "  </tbody>\n",
              "</table>\n",
              "<p>5 rows × 35 columns</p>\n",
              "</div>\n",
              "      <button class=\"colab-df-convert\" onclick=\"convertToInteractive('df-85f27be0-da21-4834-bf2b-9891c0c8426c')\"\n",
              "              title=\"Convert this dataframe to an interactive table.\"\n",
              "              style=\"display:none;\">\n",
              "        \n",
              "  <svg xmlns=\"http://www.w3.org/2000/svg\" height=\"24px\"viewBox=\"0 0 24 24\"\n",
              "       width=\"24px\">\n",
              "    <path d=\"M0 0h24v24H0V0z\" fill=\"none\"/>\n",
              "    <path d=\"M18.56 5.44l.94 2.06.94-2.06 2.06-.94-2.06-.94-.94-2.06-.94 2.06-2.06.94zm-11 1L8.5 8.5l.94-2.06 2.06-.94-2.06-.94L8.5 2.5l-.94 2.06-2.06.94zm10 10l.94 2.06.94-2.06 2.06-.94-2.06-.94-.94-2.06-.94 2.06-2.06.94z\"/><path d=\"M17.41 7.96l-1.37-1.37c-.4-.4-.92-.59-1.43-.59-.52 0-1.04.2-1.43.59L10.3 9.45l-7.72 7.72c-.78.78-.78 2.05 0 2.83L4 21.41c.39.39.9.59 1.41.59.51 0 1.02-.2 1.41-.59l7.78-7.78 2.81-2.81c.8-.78.8-2.07 0-2.86zM5.41 20L4 18.59l7.72-7.72 1.47 1.35L5.41 20z\"/>\n",
              "  </svg>\n",
              "      </button>\n",
              "      \n",
              "  <style>\n",
              "    .colab-df-container {\n",
              "      display:flex;\n",
              "      flex-wrap:wrap;\n",
              "      gap: 12px;\n",
              "    }\n",
              "\n",
              "    .colab-df-convert {\n",
              "      background-color: #E8F0FE;\n",
              "      border: none;\n",
              "      border-radius: 50%;\n",
              "      cursor: pointer;\n",
              "      display: none;\n",
              "      fill: #1967D2;\n",
              "      height: 32px;\n",
              "      padding: 0 0 0 0;\n",
              "      width: 32px;\n",
              "    }\n",
              "\n",
              "    .colab-df-convert:hover {\n",
              "      background-color: #E2EBFA;\n",
              "      box-shadow: 0px 1px 2px rgba(60, 64, 67, 0.3), 0px 1px 3px 1px rgba(60, 64, 67, 0.15);\n",
              "      fill: #174EA6;\n",
              "    }\n",
              "\n",
              "    [theme=dark] .colab-df-convert {\n",
              "      background-color: #3B4455;\n",
              "      fill: #D2E3FC;\n",
              "    }\n",
              "\n",
              "    [theme=dark] .colab-df-convert:hover {\n",
              "      background-color: #434B5C;\n",
              "      box-shadow: 0px 1px 3px 1px rgba(0, 0, 0, 0.15);\n",
              "      filter: drop-shadow(0px 1px 2px rgba(0, 0, 0, 0.3));\n",
              "      fill: #FFFFFF;\n",
              "    }\n",
              "  </style>\n",
              "\n",
              "      <script>\n",
              "        const buttonEl =\n",
              "          document.querySelector('#df-85f27be0-da21-4834-bf2b-9891c0c8426c button.colab-df-convert');\n",
              "        buttonEl.style.display =\n",
              "          google.colab.kernel.accessAllowed ? 'block' : 'none';\n",
              "\n",
              "        async function convertToInteractive(key) {\n",
              "          const element = document.querySelector('#df-85f27be0-da21-4834-bf2b-9891c0c8426c');\n",
              "          const dataTable =\n",
              "            await google.colab.kernel.invokeFunction('convertToInteractive',\n",
              "                                                     [key], {});\n",
              "          if (!dataTable) return;\n",
              "\n",
              "          const docLinkHtml = 'Like what you see? Visit the ' +\n",
              "            '<a target=\"_blank\" href=https://colab.research.google.com/notebooks/data_table.ipynb>data table notebook</a>'\n",
              "            + ' to learn more about interactive tables.';\n",
              "          element.innerHTML = '';\n",
              "          dataTable['output_type'] = 'display_data';\n",
              "          await google.colab.output.renderOutput(dataTable, element);\n",
              "          const docLink = document.createElement('div');\n",
              "          docLink.innerHTML = docLinkHtml;\n",
              "          element.appendChild(docLink);\n",
              "        }\n",
              "      </script>\n",
              "    </div>\n",
              "  </div>\n",
              "  "
            ]
          },
          "metadata": {},
          "execution_count": 28
        }
      ]
    },
    {
      "cell_type": "code",
      "source": [
        "print(prev_ap_df['NAME_TYPE_SUITE'].value_counts())\n",
        "\n",
        "#we are seeing count of the people "
      ],
      "metadata": {
        "id": "LZxJDGc8XBod",
        "outputId": "3a4ebe25-8ab9-4dfd-c6d9-6d933f79ba5c",
        "colab": {
          "base_uri": "https://localhost:8080/"
        }
      },
      "execution_count": 27,
      "outputs": [
        {
          "output_type": "stream",
          "name": "stdout",
          "text": [
            "Unaccompanied      508970\n",
            "Family             213263\n",
            "Spouse, partner     67069\n",
            "Children            31566\n",
            "Other_B             17624\n",
            "Other_A              9077\n",
            "Group of people      2240\n",
            "Name: NAME_TYPE_SUITE, dtype: int64\n"
          ]
        }
      ]
    },
    {
      "cell_type": "code",
      "source": [
        "# Filling missing value as 'Unaccompanied' as most common value\n",
        "\n",
        "prev_ap_df['NAME_TYPE_SUITE'].fillna(prev_ap_df.NAME_TYPE_SUITE.mode()[0], inplace=True)\n",
        "print(prev_ap_df['NAME_TYPE_SUITE'].value_counts())"
      ],
      "metadata": {
        "id": "XOsUzMk4YkHk",
        "outputId": "b3802cf7-3729-4c0c-ed32-ff05dc2e582f",
        "colab": {
          "base_uri": "https://localhost:8080/"
        }
      },
      "execution_count": 63,
      "outputs": [
        {
          "output_type": "stream",
          "name": "stdout",
          "text": [
            "Unaccompanied      1329028\n",
            "Family              213263\n",
            "Spouse, partner      67069\n",
            "Children             31566\n",
            "Other_B              17624\n",
            "Other_A               9077\n",
            "Group of people       2240\n",
            "Name: NAME_TYPE_SUITE, dtype: int64\n"
          ]
        }
      ]
    },
    {
      "cell_type": "code",
      "source": [
        "# Merging only required columns of application_data with previous_application_data\n",
        "\n",
        "prev_ap_merged = pd.merge(application_df[['SK_ID_CURR', 'TARGET']], prev_ap_df, how='left', on=['SK_ID_CURR'])\n",
        "\n",
        "prev_ap_merged.info()"
      ],
      "metadata": {
        "id": "Q8JrnRd8Zu-9",
        "outputId": "dd60bbc8-8df7-4852-d2da-b05a12982e78",
        "colab": {
          "base_uri": "https://localhost:8080/"
        }
      },
      "execution_count": 30,
      "outputs": [
        {
          "output_type": "stream",
          "name": "stdout",
          "text": [
            "<class 'pandas.core.frame.DataFrame'>\n",
            "Int64Index: 1429841 entries, 0 to 1429840\n",
            "Data columns (total 36 columns):\n",
            " #   Column                       Non-Null Count    Dtype  \n",
            "---  ------                       --------------    -----  \n",
            " 0   SK_ID_CURR                   1429841 non-null  int64  \n",
            " 1   TARGET                       1429841 non-null  int64  \n",
            " 2   SK_ID_PREV                   1413387 non-null  float64\n",
            " 3   NAME_CONTRACT_TYPE           1413387 non-null  object \n",
            " 4   AMT_ANNUITY                  1106482 non-null  float64\n",
            " 5   AMT_APPLICATION              1413387 non-null  float64\n",
            " 6   AMT_CREDIT                   1413387 non-null  float64\n",
            " 7   AMT_DOWN_PAYMENT             664161 non-null   float64\n",
            " 8   AMT_GOODS_PRICE              1094176 non-null  float64\n",
            " 9   WEEKDAY_APPR_PROCESS_START   1413387 non-null  object \n",
            " 10  HOUR_APPR_PROCESS_START      1413387 non-null  float64\n",
            " 11  FLAG_LAST_APPL_PER_CONTRACT  1413387 non-null  object \n",
            " 12  NFLAG_LAST_APPL_IN_DAY       1413387 non-null  float64\n",
            " 13  RATE_DOWN_PAYMENT            664161 non-null   float64\n",
            " 14  NAME_CASH_LOAN_PURPOSE       1413387 non-null  object \n",
            " 15  NAME_CONTRACT_STATUS         1413387 non-null  object \n",
            " 16  DAYS_DECISION                1413387 non-null  float64\n",
            " 17  NAME_PAYMENT_TYPE            1413387 non-null  object \n",
            " 18  CODE_REJECT_REASON           1413387 non-null  object \n",
            " 19  NAME_TYPE_SUITE              1413387 non-null  object \n",
            " 20  NAME_CLIENT_TYPE             1413387 non-null  object \n",
            " 21  NAME_GOODS_CATEGORY          1413387 non-null  object \n",
            " 22  NAME_PORTFOLIO               1413387 non-null  object \n",
            " 23  NAME_PRODUCT_TYPE            1413387 non-null  object \n",
            " 24  CHANNEL_TYPE                 1413387 non-null  object \n",
            " 25  SELLERPLACE_AREA             1413387 non-null  float64\n",
            " 26  NAME_SELLER_INDUSTRY         1413387 non-null  object \n",
            " 27  CNT_PAYMENT                  1106487 non-null  float64\n",
            " 28  NAME_YIELD_GROUP             1413387 non-null  object \n",
            " 29  PRODUCT_COMBINATION          1413387 non-null  object \n",
            " 30  DAYS_FIRST_DRAWING           852595 non-null   float64\n",
            " 31  DAYS_FIRST_DUE               852595 non-null   float64\n",
            " 32  DAYS_LAST_DUE_1ST_VERSION    852595 non-null   float64\n",
            " 33  DAYS_LAST_DUE                852595 non-null   float64\n",
            " 34  DAYS_TERMINATION             852595 non-null   float64\n",
            " 35  NFLAG_INSURED_ON_APPROVAL    852595 non-null   float64\n",
            "dtypes: float64(18), int64(2), object(16)\n",
            "memory usage: 403.6+ MB\n"
          ]
        }
      ]
    },
    {
      "cell_type": "code",
      "source": [
        "# Checking on the numeric data\n",
        "\n",
        "prev_ap_merged.describe()"
      ],
      "metadata": {
        "id": "4V5xAvH7ZxYn",
        "outputId": "7e215ef4-1cb1-4829-c59c-c6c1ac459b77",
        "colab": {
          "base_uri": "https://localhost:8080/",
          "height": 364
        }
      },
      "execution_count": 31,
      "outputs": [
        {
          "output_type": "execute_result",
          "data": {
            "text/plain": [
              "         SK_ID_CURR        TARGET    SK_ID_PREV   AMT_ANNUITY  \\\n",
              "count  1.429841e+06  1.429841e+06  1.413387e+06  1.106482e+06   \n",
              "mean   2.784721e+05  8.621658e-02  1.922745e+06  1.583720e+04   \n",
              "std    1.028026e+05  2.806837e-01  5.327182e+05  1.472491e+04   \n",
              "min    1.000020e+05  0.000000e+00  1.000001e+06  0.000000e+00   \n",
              "25%    1.893620e+05  0.000000e+00  1.461345e+06  6.257880e+03   \n",
              "50%    2.789590e+05  0.000000e+00  1.922706e+06  1.122376e+04   \n",
              "75%    3.675110e+05  0.000000e+00  2.384020e+06  2.042111e+04   \n",
              "max    4.562550e+05  1.000000e+00  2.845381e+06  4.180581e+05   \n",
              "\n",
              "       AMT_APPLICATION    AMT_CREDIT  AMT_DOWN_PAYMENT  AMT_GOODS_PRICE  \\\n",
              "count     1.413387e+06  1.413387e+06      6.641610e+05     1.094176e+06   \n",
              "mean      1.752825e+05  1.963976e+05      6.655317e+03     2.264512e+05   \n",
              "std       2.936432e+05  3.195033e+05      2.062030e+04     3.159376e+05   \n",
              "min       0.000000e+00  0.000000e+00     -9.000000e-01     0.000000e+00   \n",
              "25%       1.975500e+04  2.491200e+04      0.000000e+00     4.982850e+04   \n",
              "50%       7.090200e+04  8.064000e+04      1.791000e+03     1.102455e+05   \n",
              "75%       1.800000e+05  2.156400e+05      7.695000e+03     2.295000e+05   \n",
              "max       5.850000e+06  4.509688e+06      3.060045e+06     5.850000e+06   \n",
              "\n",
              "       HOUR_APPR_PROCESS_START  NFLAG_LAST_APPL_IN_DAY  RATE_DOWN_PAYMENT  \\\n",
              "count             1.413387e+06            1.413387e+06      664161.000000   \n",
              "mean              1.247888e+01            9.964313e-01           0.080175   \n",
              "std               3.331533e+00            5.963220e-02           0.107784   \n",
              "min               0.000000e+00            0.000000e+00          -0.000015   \n",
              "25%               1.000000e+01            1.000000e+00           0.000000   \n",
              "50%               1.200000e+01            1.000000e+00           0.062489   \n",
              "75%               1.500000e+01            1.000000e+00           0.108912   \n",
              "max               2.300000e+01            1.000000e+00           1.000000   \n",
              "\n",
              "       DAYS_DECISION  SELLERPLACE_AREA   CNT_PAYMENT  DAYS_FIRST_DRAWING  \\\n",
              "count   1.413387e+06      1.413387e+06  1.106487e+06       852595.000000   \n",
              "mean   -8.804742e+02      3.150476e+02  1.605195e+01       342257.656710   \n",
              "std     7.835932e+02      7.695935e+03  1.456674e+01        88832.266598   \n",
              "min    -2.922000e+03     -1.000000e+00  0.000000e+00        -2922.000000   \n",
              "25%    -1.314000e+03     -1.000000e+00  6.000000e+00       365243.000000   \n",
              "50%    -5.820000e+02      4.000000e+00  1.200000e+01       365243.000000   \n",
              "75%    -2.710000e+02      8.500000e+01  2.400000e+01       365243.000000   \n",
              "max    -1.000000e+00      4.000000e+06  8.400000e+01       365243.000000   \n",
              "\n",
              "       DAYS_FIRST_DUE  DAYS_LAST_DUE_1ST_VERSION  DAYS_LAST_DUE  \\\n",
              "count   852595.000000              852595.000000  852595.000000   \n",
              "mean     13488.741567               33274.831806   76665.634755   \n",
              "std      71650.147146              106161.775933  149704.716371   \n",
              "min      -2892.000000               -2801.000000   -2889.000000   \n",
              "25%      -1630.000000               -1244.000000   -1316.000000   \n",
              "50%       -825.000000                -358.000000    -534.000000   \n",
              "75%       -408.000000                 135.000000     -73.000000   \n",
              "max     365243.000000              365243.000000  365243.000000   \n",
              "\n",
              "       DAYS_TERMINATION  NFLAG_INSURED_ON_APPROVAL  \n",
              "count     852595.000000              852595.000000  \n",
              "mean       82353.171672                   0.330572  \n",
              "std       153537.064274                   0.470419  \n",
              "min        -2874.000000                   0.000000  \n",
              "25%        -1269.000000                   0.000000  \n",
              "50%         -494.000000                   0.000000  \n",
              "75%          -42.000000                   1.000000  \n",
              "max       365243.000000                   1.000000  "
            ],
            "text/html": [
              "\n",
              "  <div id=\"df-ba759a40-55cf-425e-b962-9753435f8e53\">\n",
              "    <div class=\"colab-df-container\">\n",
              "      <div>\n",
              "<style scoped>\n",
              "    .dataframe tbody tr th:only-of-type {\n",
              "        vertical-align: middle;\n",
              "    }\n",
              "\n",
              "    .dataframe tbody tr th {\n",
              "        vertical-align: top;\n",
              "    }\n",
              "\n",
              "    .dataframe thead th {\n",
              "        text-align: right;\n",
              "    }\n",
              "</style>\n",
              "<table border=\"1\" class=\"dataframe\">\n",
              "  <thead>\n",
              "    <tr style=\"text-align: right;\">\n",
              "      <th></th>\n",
              "      <th>SK_ID_CURR</th>\n",
              "      <th>TARGET</th>\n",
              "      <th>SK_ID_PREV</th>\n",
              "      <th>AMT_ANNUITY</th>\n",
              "      <th>AMT_APPLICATION</th>\n",
              "      <th>AMT_CREDIT</th>\n",
              "      <th>AMT_DOWN_PAYMENT</th>\n",
              "      <th>AMT_GOODS_PRICE</th>\n",
              "      <th>HOUR_APPR_PROCESS_START</th>\n",
              "      <th>NFLAG_LAST_APPL_IN_DAY</th>\n",
              "      <th>RATE_DOWN_PAYMENT</th>\n",
              "      <th>DAYS_DECISION</th>\n",
              "      <th>SELLERPLACE_AREA</th>\n",
              "      <th>CNT_PAYMENT</th>\n",
              "      <th>DAYS_FIRST_DRAWING</th>\n",
              "      <th>DAYS_FIRST_DUE</th>\n",
              "      <th>DAYS_LAST_DUE_1ST_VERSION</th>\n",
              "      <th>DAYS_LAST_DUE</th>\n",
              "      <th>DAYS_TERMINATION</th>\n",
              "      <th>NFLAG_INSURED_ON_APPROVAL</th>\n",
              "    </tr>\n",
              "  </thead>\n",
              "  <tbody>\n",
              "    <tr>\n",
              "      <th>count</th>\n",
              "      <td>1.429841e+06</td>\n",
              "      <td>1.429841e+06</td>\n",
              "      <td>1.413387e+06</td>\n",
              "      <td>1.106482e+06</td>\n",
              "      <td>1.413387e+06</td>\n",
              "      <td>1.413387e+06</td>\n",
              "      <td>6.641610e+05</td>\n",
              "      <td>1.094176e+06</td>\n",
              "      <td>1.413387e+06</td>\n",
              "      <td>1.413387e+06</td>\n",
              "      <td>664161.000000</td>\n",
              "      <td>1.413387e+06</td>\n",
              "      <td>1.413387e+06</td>\n",
              "      <td>1.106487e+06</td>\n",
              "      <td>852595.000000</td>\n",
              "      <td>852595.000000</td>\n",
              "      <td>852595.000000</td>\n",
              "      <td>852595.000000</td>\n",
              "      <td>852595.000000</td>\n",
              "      <td>852595.000000</td>\n",
              "    </tr>\n",
              "    <tr>\n",
              "      <th>mean</th>\n",
              "      <td>2.784721e+05</td>\n",
              "      <td>8.621658e-02</td>\n",
              "      <td>1.922745e+06</td>\n",
              "      <td>1.583720e+04</td>\n",
              "      <td>1.752825e+05</td>\n",
              "      <td>1.963976e+05</td>\n",
              "      <td>6.655317e+03</td>\n",
              "      <td>2.264512e+05</td>\n",
              "      <td>1.247888e+01</td>\n",
              "      <td>9.964313e-01</td>\n",
              "      <td>0.080175</td>\n",
              "      <td>-8.804742e+02</td>\n",
              "      <td>3.150476e+02</td>\n",
              "      <td>1.605195e+01</td>\n",
              "      <td>342257.656710</td>\n",
              "      <td>13488.741567</td>\n",
              "      <td>33274.831806</td>\n",
              "      <td>76665.634755</td>\n",
              "      <td>82353.171672</td>\n",
              "      <td>0.330572</td>\n",
              "    </tr>\n",
              "    <tr>\n",
              "      <th>std</th>\n",
              "      <td>1.028026e+05</td>\n",
              "      <td>2.806837e-01</td>\n",
              "      <td>5.327182e+05</td>\n",
              "      <td>1.472491e+04</td>\n",
              "      <td>2.936432e+05</td>\n",
              "      <td>3.195033e+05</td>\n",
              "      <td>2.062030e+04</td>\n",
              "      <td>3.159376e+05</td>\n",
              "      <td>3.331533e+00</td>\n",
              "      <td>5.963220e-02</td>\n",
              "      <td>0.107784</td>\n",
              "      <td>7.835932e+02</td>\n",
              "      <td>7.695935e+03</td>\n",
              "      <td>1.456674e+01</td>\n",
              "      <td>88832.266598</td>\n",
              "      <td>71650.147146</td>\n",
              "      <td>106161.775933</td>\n",
              "      <td>149704.716371</td>\n",
              "      <td>153537.064274</td>\n",
              "      <td>0.470419</td>\n",
              "    </tr>\n",
              "    <tr>\n",
              "      <th>min</th>\n",
              "      <td>1.000020e+05</td>\n",
              "      <td>0.000000e+00</td>\n",
              "      <td>1.000001e+06</td>\n",
              "      <td>0.000000e+00</td>\n",
              "      <td>0.000000e+00</td>\n",
              "      <td>0.000000e+00</td>\n",
              "      <td>-9.000000e-01</td>\n",
              "      <td>0.000000e+00</td>\n",
              "      <td>0.000000e+00</td>\n",
              "      <td>0.000000e+00</td>\n",
              "      <td>-0.000015</td>\n",
              "      <td>-2.922000e+03</td>\n",
              "      <td>-1.000000e+00</td>\n",
              "      <td>0.000000e+00</td>\n",
              "      <td>-2922.000000</td>\n",
              "      <td>-2892.000000</td>\n",
              "      <td>-2801.000000</td>\n",
              "      <td>-2889.000000</td>\n",
              "      <td>-2874.000000</td>\n",
              "      <td>0.000000</td>\n",
              "    </tr>\n",
              "    <tr>\n",
              "      <th>25%</th>\n",
              "      <td>1.893620e+05</td>\n",
              "      <td>0.000000e+00</td>\n",
              "      <td>1.461345e+06</td>\n",
              "      <td>6.257880e+03</td>\n",
              "      <td>1.975500e+04</td>\n",
              "      <td>2.491200e+04</td>\n",
              "      <td>0.000000e+00</td>\n",
              "      <td>4.982850e+04</td>\n",
              "      <td>1.000000e+01</td>\n",
              "      <td>1.000000e+00</td>\n",
              "      <td>0.000000</td>\n",
              "      <td>-1.314000e+03</td>\n",
              "      <td>-1.000000e+00</td>\n",
              "      <td>6.000000e+00</td>\n",
              "      <td>365243.000000</td>\n",
              "      <td>-1630.000000</td>\n",
              "      <td>-1244.000000</td>\n",
              "      <td>-1316.000000</td>\n",
              "      <td>-1269.000000</td>\n",
              "      <td>0.000000</td>\n",
              "    </tr>\n",
              "    <tr>\n",
              "      <th>50%</th>\n",
              "      <td>2.789590e+05</td>\n",
              "      <td>0.000000e+00</td>\n",
              "      <td>1.922706e+06</td>\n",
              "      <td>1.122376e+04</td>\n",
              "      <td>7.090200e+04</td>\n",
              "      <td>8.064000e+04</td>\n",
              "      <td>1.791000e+03</td>\n",
              "      <td>1.102455e+05</td>\n",
              "      <td>1.200000e+01</td>\n",
              "      <td>1.000000e+00</td>\n",
              "      <td>0.062489</td>\n",
              "      <td>-5.820000e+02</td>\n",
              "      <td>4.000000e+00</td>\n",
              "      <td>1.200000e+01</td>\n",
              "      <td>365243.000000</td>\n",
              "      <td>-825.000000</td>\n",
              "      <td>-358.000000</td>\n",
              "      <td>-534.000000</td>\n",
              "      <td>-494.000000</td>\n",
              "      <td>0.000000</td>\n",
              "    </tr>\n",
              "    <tr>\n",
              "      <th>75%</th>\n",
              "      <td>3.675110e+05</td>\n",
              "      <td>0.000000e+00</td>\n",
              "      <td>2.384020e+06</td>\n",
              "      <td>2.042111e+04</td>\n",
              "      <td>1.800000e+05</td>\n",
              "      <td>2.156400e+05</td>\n",
              "      <td>7.695000e+03</td>\n",
              "      <td>2.295000e+05</td>\n",
              "      <td>1.500000e+01</td>\n",
              "      <td>1.000000e+00</td>\n",
              "      <td>0.108912</td>\n",
              "      <td>-2.710000e+02</td>\n",
              "      <td>8.500000e+01</td>\n",
              "      <td>2.400000e+01</td>\n",
              "      <td>365243.000000</td>\n",
              "      <td>-408.000000</td>\n",
              "      <td>135.000000</td>\n",
              "      <td>-73.000000</td>\n",
              "      <td>-42.000000</td>\n",
              "      <td>1.000000</td>\n",
              "    </tr>\n",
              "    <tr>\n",
              "      <th>max</th>\n",
              "      <td>4.562550e+05</td>\n",
              "      <td>1.000000e+00</td>\n",
              "      <td>2.845381e+06</td>\n",
              "      <td>4.180581e+05</td>\n",
              "      <td>5.850000e+06</td>\n",
              "      <td>4.509688e+06</td>\n",
              "      <td>3.060045e+06</td>\n",
              "      <td>5.850000e+06</td>\n",
              "      <td>2.300000e+01</td>\n",
              "      <td>1.000000e+00</td>\n",
              "      <td>1.000000</td>\n",
              "      <td>-1.000000e+00</td>\n",
              "      <td>4.000000e+06</td>\n",
              "      <td>8.400000e+01</td>\n",
              "      <td>365243.000000</td>\n",
              "      <td>365243.000000</td>\n",
              "      <td>365243.000000</td>\n",
              "      <td>365243.000000</td>\n",
              "      <td>365243.000000</td>\n",
              "      <td>1.000000</td>\n",
              "    </tr>\n",
              "  </tbody>\n",
              "</table>\n",
              "</div>\n",
              "      <button class=\"colab-df-convert\" onclick=\"convertToInteractive('df-ba759a40-55cf-425e-b962-9753435f8e53')\"\n",
              "              title=\"Convert this dataframe to an interactive table.\"\n",
              "              style=\"display:none;\">\n",
              "        \n",
              "  <svg xmlns=\"http://www.w3.org/2000/svg\" height=\"24px\"viewBox=\"0 0 24 24\"\n",
              "       width=\"24px\">\n",
              "    <path d=\"M0 0h24v24H0V0z\" fill=\"none\"/>\n",
              "    <path d=\"M18.56 5.44l.94 2.06.94-2.06 2.06-.94-2.06-.94-.94-2.06-.94 2.06-2.06.94zm-11 1L8.5 8.5l.94-2.06 2.06-.94-2.06-.94L8.5 2.5l-.94 2.06-2.06.94zm10 10l.94 2.06.94-2.06 2.06-.94-2.06-.94-.94-2.06-.94 2.06-2.06.94z\"/><path d=\"M17.41 7.96l-1.37-1.37c-.4-.4-.92-.59-1.43-.59-.52 0-1.04.2-1.43.59L10.3 9.45l-7.72 7.72c-.78.78-.78 2.05 0 2.83L4 21.41c.39.39.9.59 1.41.59.51 0 1.02-.2 1.41-.59l7.78-7.78 2.81-2.81c.8-.78.8-2.07 0-2.86zM5.41 20L4 18.59l7.72-7.72 1.47 1.35L5.41 20z\"/>\n",
              "  </svg>\n",
              "      </button>\n",
              "      \n",
              "  <style>\n",
              "    .colab-df-container {\n",
              "      display:flex;\n",
              "      flex-wrap:wrap;\n",
              "      gap: 12px;\n",
              "    }\n",
              "\n",
              "    .colab-df-convert {\n",
              "      background-color: #E8F0FE;\n",
              "      border: none;\n",
              "      border-radius: 50%;\n",
              "      cursor: pointer;\n",
              "      display: none;\n",
              "      fill: #1967D2;\n",
              "      height: 32px;\n",
              "      padding: 0 0 0 0;\n",
              "      width: 32px;\n",
              "    }\n",
              "\n",
              "    .colab-df-convert:hover {\n",
              "      background-color: #E2EBFA;\n",
              "      box-shadow: 0px 1px 2px rgba(60, 64, 67, 0.3), 0px 1px 3px 1px rgba(60, 64, 67, 0.15);\n",
              "      fill: #174EA6;\n",
              "    }\n",
              "\n",
              "    [theme=dark] .colab-df-convert {\n",
              "      background-color: #3B4455;\n",
              "      fill: #D2E3FC;\n",
              "    }\n",
              "\n",
              "    [theme=dark] .colab-df-convert:hover {\n",
              "      background-color: #434B5C;\n",
              "      box-shadow: 0px 1px 3px 1px rgba(0, 0, 0, 0.15);\n",
              "      filter: drop-shadow(0px 1px 2px rgba(0, 0, 0, 0.3));\n",
              "      fill: #FFFFFF;\n",
              "    }\n",
              "  </style>\n",
              "\n",
              "      <script>\n",
              "        const buttonEl =\n",
              "          document.querySelector('#df-ba759a40-55cf-425e-b962-9753435f8e53 button.colab-df-convert');\n",
              "        buttonEl.style.display =\n",
              "          google.colab.kernel.accessAllowed ? 'block' : 'none';\n",
              "\n",
              "        async function convertToInteractive(key) {\n",
              "          const element = document.querySelector('#df-ba759a40-55cf-425e-b962-9753435f8e53');\n",
              "          const dataTable =\n",
              "            await google.colab.kernel.invokeFunction('convertToInteractive',\n",
              "                                                     [key], {});\n",
              "          if (!dataTable) return;\n",
              "\n",
              "          const docLinkHtml = 'Like what you see? Visit the ' +\n",
              "            '<a target=\"_blank\" href=https://colab.research.google.com/notebooks/data_table.ipynb>data table notebook</a>'\n",
              "            + ' to learn more about interactive tables.';\n",
              "          element.innerHTML = '';\n",
              "          dataTable['output_type'] = 'display_data';\n",
              "          await google.colab.output.renderOutput(dataTable, element);\n",
              "          const docLink = document.createElement('div');\n",
              "          docLink.innerHTML = docLinkHtml;\n",
              "          element.appendChild(docLink);\n",
              "        }\n",
              "      </script>\n",
              "    </div>\n",
              "  </div>\n",
              "  "
            ]
          },
          "metadata": {},
          "execution_count": 31
        }
      ]
    },
    {
      "cell_type": "markdown",
      "source": [
        "###**Insight**: Not dropping the rest of columns with missing values, will use them for further analysis."
      ],
      "metadata": {
        "id": "Ef6Y8nSuZ4hJ"
      }
    },
    {
      "cell_type": "markdown",
      "source": [
        "##Handling Outliers"
      ],
      "metadata": {
        "id": "qL_0yqWbZ9Dy"
      }
    },
    {
      "cell_type": "code",
      "source": [
        "plt.figure(figsize=(10,2))\n",
        "sns.boxplot(prev_ap_merged['AMT_ANNUITY'])\n",
        "plt.show()"
      ],
      "metadata": {
        "id": "HU0fetiuZ1Yn",
        "outputId": "a1fb1835-77f0-40ee-9f5f-97f96b7fea95",
        "colab": {
          "base_uri": "https://localhost:8080/",
          "height": 227
        }
      },
      "execution_count": 32,
      "outputs": [
        {
          "output_type": "stream",
          "name": "stderr",
          "text": [
            "/usr/local/lib/python3.8/dist-packages/seaborn/_decorators.py:36: FutureWarning: Pass the following variable as a keyword arg: x. From version 0.12, the only valid positional argument will be `data`, and passing other arguments without an explicit keyword will result in an error or misinterpretation.\n",
            "  warnings.warn(\n"
          ]
        },
        {
          "output_type": "display_data",
          "data": {
            "text/plain": [
              "<Figure size 720x144 with 1 Axes>"
            ],
            "image/png": "[encoded data removed]"
          },
          "metadata": {
            "needs_background": "light"
          }
        }
      ]
    },
    {
      "cell_type": "code",
      "source": [
        "plt.figure(figsize=(10,2))\n",
        "sns.boxplot(prev_ap_merged['AMT_DOWN_PAYMENT'])\n",
        "plt.show()"
      ],
      "metadata": {
        "id": "5viNq_SRaCIg",
        "outputId": "6e0cf355-ac1a-4375-bc93-a8d9cf56ad6b",
        "colab": {
          "base_uri": "https://localhost:8080/",
          "height": 227
        }
      },
      "execution_count": 33,
      "outputs": [
        {
          "output_type": "stream",
          "name": "stderr",
          "text": [
            "/usr/local/lib/python3.8/dist-packages/seaborn/_decorators.py:36: FutureWarning: Pass the following variable as a keyword arg: x. From version 0.12, the only valid positional argument will be `data`, and passing other arguments without an explicit keyword will result in an error or misinterpretation.\n",
            "  warnings.warn(\n"
          ]
        },
        {
          "output_type": "display_data",
          "data": {
            "text/plain": [
              "<Figure size 720x144 with 1 Axes>"
            ],
            "image/png": "[encoded data removed]"
          },
          "metadata": {
            "needs_background": "light"
          }
        }
      ]
    },
    {
      "cell_type": "code",
      "source": [
        "# Excluding values outside 99 percentile for AMT_ANNUITY and AMT_DOWN_PAYMENT\n",
        "\n",
        "prev_ap_merged = prev_ap_merged[prev_ap_merged['AMT_ANNUITY'] < np.nanpercentile(prev_ap_merged['AMT_ANNUITY'], 99)]\n",
        "prev_ap_merged = prev_ap_merged[prev_ap_merged['AMT_DOWN_PAYMENT'] < np.nanpercentile(prev_ap_merged['AMT_DOWN_PAYMENT'], 99)]"
      ],
      "metadata": {
        "id": "GkoZ-AVLaFih"
      },
      "execution_count": 34,
      "outputs": []
    },
    {
      "cell_type": "markdown",
      "source": [
        "###Checking the features after updating."
      ],
      "metadata": {
        "id": "s9rD1S2daMfZ"
      }
    },
    {
      "cell_type": "code",
      "source": [
        "plt.figure(figsize=(10,2))\n",
        "sns.boxplot(prev_ap_merged['AMT_ANNUITY'])\n",
        "plt.show()\n",
        "plt.figure(figsize=(10,2))\n",
        "sns.boxplot(prev_ap_merged['AMT_DOWN_PAYMENT'])\n",
        "plt.show()"
      ],
      "metadata": {
        "id": "E3SRRoKKaJ4t",
        "outputId": "d95e199a-894a-4fa3-c933-af73d2dd6dd0",
        "colab": {
          "base_uri": "https://localhost:8080/",
          "height": 416
        }
      },
      "execution_count": 35,
      "outputs": [
        {
          "output_type": "stream",
          "name": "stderr",
          "text": [
            "/usr/local/lib/python3.8/dist-packages/seaborn/_decorators.py:36: FutureWarning: Pass the following variable as a keyword arg: x. From version 0.12, the only valid positional argument will be `data`, and passing other arguments without an explicit keyword will result in an error or misinterpretation.\n",
            "  warnings.warn(\n"
          ]
        },
        {
          "output_type": "display_data",
          "data": {
            "text/plain": [
              "<Figure size 720x144 with 1 Axes>"
            ],
            "image/png": "[encoded data removed]"
          },
          "metadata": {
            "needs_background": "light"
          }
        },
        {
          "output_type": "stream",
          "name": "stderr",
          "text": [
            "/usr/local/lib/python3.8/dist-packages/seaborn/_decorators.py:36: FutureWarning: Pass the following variable as a keyword arg: x. From version 0.12, the only valid positional argument will be `data`, and passing other arguments without an explicit keyword will result in an error or misinterpretation.\n",
            "  warnings.warn(\n"
          ]
        },
        {
          "output_type": "display_data",
          "data": {
            "text/plain": [
              "<Figure size 720x144 with 1 Axes>"
            ],
            "image/png": "[encoded data removed]"
          },
          "metadata": {
            "needs_background": "light"
          }
        }
      ]
    },
    {
      "cell_type": "markdown",
      "source": [
        "##Checking Data Imbalance in Previous Application Data"
      ],
      "metadata": {
        "id": "UCwIBDfSamTM"
      }
    },
    {
      "cell_type": "code",
      "source": [
        "plt.style.use(\"ggplot\")\n",
        "plt.title(\"Status of Previous Loan Application and Payment\")\n",
        "sns.countplot(prev_ap_merged['NAME_CONTRACT_STATUS'], hue=prev_ap_merged['TARGET'])\n",
        "plt.show()"
      ],
      "metadata": {
        "id": "dZMcdrrhaVWH",
        "outputId": "3a4d7c77-ad88-4baa-a2b4-36235cf32f0c",
        "colab": {
          "base_uri": "https://localhost:8080/",
          "height": 354
        }
      },
      "execution_count": 36,
      "outputs": [
        {
          "output_type": "stream",
          "name": "stderr",
          "text": [
            "/usr/local/lib/python3.8/dist-packages/seaborn/_decorators.py:36: FutureWarning: Pass the following variable as a keyword arg: x. From version 0.12, the only valid positional argument will be `data`, and passing other arguments without an explicit keyword will result in an error or misinterpretation.\n",
            "  warnings.warn(\n"
          ]
        },
        {
          "output_type": "display_data",
          "data": {
            "text/plain": [
              "<Figure size 432x288 with 1 Axes>"
            ],
            "image/png": "[encoded data removed]"
          },
          "metadata": {}
        }
      ]
    },
    {
      "cell_type": "code",
      "source": [
        "# Percentage of previously approved loan applicants that defaulted in current loan\n",
        "\n",
        "total_approved = prev_ap_merged[prev_ap_merged['NAME_CONTRACT_STATUS'] == \"Approved\"].shape[0]\n",
        "default_approved = prev_ap_merged[(prev_ap_merged['TARGET'] == 1) & (prev_ap_merged['NAME_CONTRACT_STATUS'] == \"Approved\")].shape[0]\n",
        "\n",
        "print(\"Percentage of previously approved loan applicants that defaulted in current loan : \", (default_approved*100/total_approved))"
      ],
      "metadata": {
        "id": "yjH9xPRBaq7_",
        "outputId": "d1f1c60c-7533-42d4-d2bd-c4dd95210ff0",
        "colab": {
          "base_uri": "https://localhost:8080/"
        }
      },
      "execution_count": 37,
      "outputs": [
        {
          "output_type": "stream",
          "name": "stdout",
          "text": [
            "Percentage of previously approved loan applicants that defaulted in current loan :  7.354523610066182\n"
          ]
        }
      ]
    },
    {
      "cell_type": "code",
      "source": [
        "# Percentage of previously refused loan applicants that were able to pay current loan\n",
        "\n",
        "total_refused = prev_ap_merged[prev_ap_merged['NAME_CONTRACT_STATUS'] == \"Refused\"].shape[0]\n",
        "nondefault_refused = prev_ap_merged[(prev_ap_merged['TARGET'] == 0) & (prev_ap_merged['NAME_CONTRACT_STATUS'] == \"Refused\")].shape[0]\n",
        "\n",
        "print(\"Percentage of previously refused loan applicants that were able to pay current loan : \", (nondefault_refused*100/total_refused))"
      ],
      "metadata": {
        "id": "xoMYRCrBau2-",
        "outputId": "307bc56a-9354-4ab3-8c26-80f57c4f1549",
        "colab": {
          "base_uri": "https://localhost:8080/"
        }
      },
      "execution_count": 38,
      "outputs": [
        {
          "output_type": "stream",
          "name": "stdout",
          "text": [
            "Percentage of previously refused loan applicants that were able to pay current loan :  90.18283846699349\n"
          ]
        }
      ]
    },
    {
      "cell_type": "markdown",
      "source": [
        "###**Observation**:\n",
        "\n",
        "* The applicants whose previous loans were approved are more likely to pay current loan in time, than the applicants whose previous loans were rejected.\n",
        "\n",
        "* 7% of the previously approved loan applicants that defaulted in current loan\n",
        "\n",
        "* 90 % of the previously refused loan applicants that were able to pay current loan"
      ],
      "metadata": {
        "id": "Nwlc_zwua5ux"
      }
    },
    {
      "cell_type": "code",
      "source": [
        "plt.title(\"Payment Status\")\n",
        "sns.countplot(prev_ap_merged['TARGET'])\n",
        "plt.show()"
      ],
      "metadata": {
        "id": "EH0ncQXSaxlX",
        "outputId": "be38d030-9f35-41db-f545-1e2cebaa9d60",
        "colab": {
          "base_uri": "https://localhost:8080/",
          "height": 354
        }
      },
      "execution_count": 39,
      "outputs": [
        {
          "output_type": "stream",
          "name": "stderr",
          "text": [
            "/usr/local/lib/python3.8/dist-packages/seaborn/_decorators.py:36: FutureWarning: Pass the following variable as a keyword arg: x. From version 0.12, the only valid positional argument will be `data`, and passing other arguments without an explicit keyword will result in an error or misinterpretation.\n",
            "  warnings.warn(\n"
          ]
        },
        {
          "output_type": "display_data",
          "data": {
            "text/plain": [
              "<Figure size 432x288 with 1 Axes>"
            ],
            "image/png": "[encoded data removed]"
          },
          "metadata": {}
        }
      ]
    },
    {
      "cell_type": "markdown",
      "source": [
        "###**Insight**: This data is highly imbalanced as number of defaulter is very less in total population."
      ],
      "metadata": {
        "id": "i77Dy0nGbGaO"
      }
    },
    {
      "cell_type": "markdown",
      "source": [
        "###Segment 4 and 5: Univariate, Bivariate and Multivariate Analysis"
      ],
      "metadata": {
        "id": "ciFfbhIFbNw9"
      }
    },
    {
      "cell_type": "code",
      "source": [
        "print(prev_ap_merged.FLAG_LAST_APPL_PER_CONTRACT.value_counts())\n",
        "print(prev_ap_merged.NFLAG_LAST_APPL_IN_DAY.value_counts())"
      ],
      "metadata": {
        "id": "YBx1o5IzbD5X",
        "outputId": "1639a12e-e502-4f48-e594-c5cc88ae9e73",
        "colab": {
          "base_uri": "https://localhost:8080/"
        }
      },
      "execution_count": 41,
      "outputs": [
        {
          "output_type": "stream",
          "name": "stdout",
          "text": [
            "Y    628193\n",
            "Name: FLAG_LAST_APPL_PER_CONTRACT, dtype: int64\n",
            "1.0    627967\n",
            "0.0       226\n",
            "Name: NFLAG_LAST_APPL_IN_DAY, dtype: int64\n"
          ]
        }
      ]
    },
    {
      "cell_type": "markdown",
      "source": [
        "**Insight**\n",
        "\n",
        "* 'FLAG_LAST_APPL_PER_CONTRACT' can be dropped for having fixed value in all entries.\n",
        "\n",
        "* 'NFLAG_LAST_APPL_IN_DAY' can be dropped for having highly imbalance data."
      ],
      "metadata": {
        "id": "9K6CldXRbZNW"
      }
    },
    {
      "cell_type": "markdown",
      "source": [
        "###Analysis of Numeric Features of Previous Application Data"
      ],
      "metadata": {
        "id": "-OJopQGpbfyV"
      }
    },
    {
      "cell_type": "code",
      "source": [
        "# Setting equal y-limit for both sub-plots for better comparison\n",
        "\n",
        "fig = plt.figure(figsize=(12,6))\n",
        "\n",
        "ax1 = fig.add_subplot(1, 2, 1, ylim=(0,70000), title=\"Non-defaulter\")\n",
        "ax2 = fig.add_subplot(1, 2, 2, ylim=(0,70000), title=\"Defaulter\")\n",
        "\n",
        "sns.scatterplot(prev_ap_merged[prev_ap_merged[\"TARGET\"] == 0]['AMT_ANNUITY'], prev_ap_merged[prev_ap_merged[\"TARGET\"] == 0]['AMT_DOWN_PAYMENT'], ax=ax1)\n",
        "sns.scatterplot(prev_ap_merged[prev_ap_merged[\"TARGET\"] == 1]['AMT_ANNUITY'], prev_ap_merged[prev_ap_merged[\"TARGET\"] == 1]['AMT_DOWN_PAYMENT'], ax=ax2)\n",
        "\n",
        "plt.show()"
      ],
      "metadata": {
        "id": "GOIbggwkbUON",
        "outputId": "bec10e63-739b-4628-8b76-042488e3e543",
        "colab": {
          "base_uri": "https://localhost:8080/",
          "height": 497
        }
      },
      "execution_count": 42,
      "outputs": [
        {
          "output_type": "stream",
          "name": "stderr",
          "text": [
            "/usr/local/lib/python3.8/dist-packages/seaborn/_decorators.py:36: FutureWarning: Pass the following variables as keyword args: x, y. From version 0.12, the only valid positional argument will be `data`, and passing other arguments without an explicit keyword will result in an error or misinterpretation.\n",
            "  warnings.warn(\n",
            "/usr/local/lib/python3.8/dist-packages/seaborn/_decorators.py:36: FutureWarning: Pass the following variables as keyword args: x, y. From version 0.12, the only valid positional argument will be `data`, and passing other arguments without an explicit keyword will result in an error or misinterpretation.\n",
            "  warnings.warn(\n"
          ]
        },
        {
          "output_type": "display_data",
          "data": {
            "text/plain": [
              "<Figure size 864x432 with 2 Axes>"
            ],
            "image/png": "[encoded data removed]"
          },
          "metadata": {}
        }
      ]
    },
    {
      "cell_type": "markdown",
      "source": [
        "###**Insight**:\n",
        "\n",
        "* Number of defaulters are less for larger amount of annuity of previous application.\n",
        "* For higher down payment, defaulter cases are less."
      ],
      "metadata": {
        "id": "AfpN7PUMbnhz"
      }
    },
    {
      "cell_type": "code",
      "source": [
        "fig = plt.figure(figsize=(12,6))\n",
        "\n",
        "ax1 = fig.add_subplot(1, 2, 1, title=\"Non-defaulter\")\n",
        "ax2 = fig.add_subplot(1, 2, 2, title=\"Defaulter\")\n",
        "\n",
        "prev_ap_merged[prev_ap_merged[\"TARGET\"] == 0][\"HOUR_APPR_PROCESS_START\"].hist(bins=10, ax=ax1)\n",
        "prev_ap_merged[prev_ap_merged[\"TARGET\"] == 1][\"HOUR_APPR_PROCESS_START\"].hist(bins=10, ax=ax2)\n",
        "\n",
        "plt.show()"
      ],
      "metadata": {
        "id": "w-P9otMXbkh-",
        "outputId": "761956a3-7b85-4e70-d3d6-ddca177021f1",
        "colab": {
          "base_uri": "https://localhost:8080/",
          "height": 391
        }
      },
      "execution_count": 43,
      "outputs": [
        {
          "output_type": "display_data",
          "data": {
            "text/plain": [
              "<Figure size 864x432 with 2 Axes>"
            ],
            "image/png": "[encoded data removed]"
          },
          "metadata": {}
        }
      ]
    },
    {
      "cell_type": "markdown",
      "source": [
        "###**Insight**:\n",
        "\n",
        "* Most of the loans are applied around 15:00 hours. This feature is does not have visible impact on TARGET variable"
      ],
      "metadata": {
        "id": "cNoV4Bowb3Av"
      }
    },
    {
      "cell_type": "code",
      "source": [
        "fig = plt.figure(figsize=(12,6))\n",
        "\n",
        "ax1 = fig.add_subplot(1, 2, 1, title=\"Non-defaulter\")\n",
        "ax2 = fig.add_subplot(1, 2, 2, title=\"Defaulter\")\n",
        "\n",
        "sns.boxplot(prev_ap_merged[prev_ap_merged[\"TARGET\"] == 0]['RATE_DOWN_PAYMENT'], ax=ax1)\n",
        "sns.boxplot(prev_ap_merged[prev_ap_merged[\"TARGET\"] == 1]['RATE_DOWN_PAYMENT'], ax=ax2)\n",
        "\n",
        "plt.show()"
      ],
      "metadata": {
        "id": "cTP8_qstbzwa",
        "outputId": "9169acd1-6962-4eac-e9ee-2f5a47e819f4",
        "colab": {
          "base_uri": "https://localhost:8080/",
          "height": 497
        }
      },
      "execution_count": 60,
      "outputs": [
        {
          "output_type": "stream",
          "name": "stderr",
          "text": [
            "/usr/local/lib/python3.8/dist-packages/seaborn/_decorators.py:36: FutureWarning: Pass the following variable as a keyword arg: x. From version 0.12, the only valid positional argument will be `data`, and passing other arguments without an explicit keyword will result in an error or misinterpretation.\n",
            "  warnings.warn(\n",
            "/usr/local/lib/python3.8/dist-packages/seaborn/_decorators.py:36: FutureWarning: Pass the following variable as a keyword arg: x. From version 0.12, the only valid positional argument will be `data`, and passing other arguments without an explicit keyword will result in an error or misinterpretation.\n",
            "  warnings.warn(\n"
          ]
        },
        {
          "output_type": "display_data",
          "data": {
            "text/plain": [
              "<Figure size 864x432 with 2 Axes>"
            ],
            "image/png": "[encoded data removed]"
          },
          "metadata": {}
        }
      ]
    },
    {
      "cell_type": "markdown",
      "source": [
        "####Checking the quantile values for exact percentile"
      ],
      "metadata": {
        "id": "MsYgJYDccA2a"
      }
    },
    {
      "cell_type": "code",
      "source": [
        "# Percentile of RATE_DOWN_PAYMENT for non-defaulters\n",
        "\n",
        "prev_ap_merged[prev_ap_merged[\"TARGET\"] == 0]['RATE_DOWN_PAYMENT'].quantile([0.5, 0.7, 0.9, 0.95, 0.99])"
      ],
      "metadata": {
        "id": "UKIJMLygb83-",
        "outputId": "048b8d98-cb87-4a95-aae5-08adb9c28a54",
        "colab": {
          "base_uri": "https://localhost:8080/"
        }
      },
      "execution_count": 45,
      "outputs": [
        {
          "output_type": "execute_result",
          "data": {
            "text/plain": [
              "0.50    0.091255\n",
              "0.70    0.108909\n",
              "0.90    0.211895\n",
              "0.95    0.282832\n",
              "0.99    0.498074\n",
              "Name: RATE_DOWN_PAYMENT, dtype: float64"
            ]
          },
          "metadata": {},
          "execution_count": 45
        }
      ]
    },
    {
      "cell_type": "code",
      "source": [
        "# Percentile of RATE_DOWN_PAYMENT for defaulters\n",
        "\n",
        "prev_ap_merged[prev_ap_merged[\"TARGET\"] == 1]['RATE_DOWN_PAYMENT'].quantile([0.5, 0.7, 0.9, 0.95, 0.99])"
      ],
      "metadata": {
        "id": "8g1GBWB3cFqc",
        "outputId": "b798875f-463e-4cc1-b6b2-e27a3e491fc7",
        "colab": {
          "base_uri": "https://localhost:8080/"
        }
      },
      "execution_count": 46,
      "outputs": [
        {
          "output_type": "execute_result",
          "data": {
            "text/plain": [
              "0.50    0.017238\n",
              "0.70    0.104260\n",
              "0.90    0.199685\n",
              "0.95    0.232643\n",
              "0.99    0.454294\n",
              "Name: RATE_DOWN_PAYMENT, dtype: float64"
            ]
          },
          "metadata": {},
          "execution_count": 46
        }
      ]
    },
    {
      "cell_type": "markdown",
      "source": [
        "###**Insight**:\n",
        "\n",
        "* For those who had lower rate of down payment in previous application, cases of default are higher."
      ],
      "metadata": {
        "id": "KJGcVTcKcP5V"
      }
    },
    {
      "cell_type": "markdown",
      "source": [
        "###Analysis of Categorical Features of Previous Application Data"
      ],
      "metadata": {
        "id": "Ft0EXLSWcZc5"
      }
    },
    {
      "cell_type": "code",
      "source": [
        "sns.countplot(prev_ap_merged.NAME_CONTRACT_TYPE, hue=prev_ap_merged.TARGET)\n",
        "plt.show()"
      ],
      "metadata": {
        "id": "kzQuL7F1cJH6",
        "outputId": "604255f3-43d8-453d-90ba-c982c42a9233",
        "colab": {
          "base_uri": "https://localhost:8080/",
          "height": 337
        }
      },
      "execution_count": 47,
      "outputs": [
        {
          "output_type": "stream",
          "name": "stderr",
          "text": [
            "/usr/local/lib/python3.8/dist-packages/seaborn/_decorators.py:36: FutureWarning: Pass the following variable as a keyword arg: x. From version 0.12, the only valid positional argument will be `data`, and passing other arguments without an explicit keyword will result in an error or misinterpretation.\n",
            "  warnings.warn(\n"
          ]
        },
        {
          "output_type": "display_data",
          "data": {
            "text/plain": [
              "<Figure size 432x288 with 1 Axes>"
            ],
            "image/png": "[encoded data removed]"
          },
          "metadata": {}
        }
      ]
    },
    {
      "cell_type": "markdown",
      "source": [
        "###**Insights**:\n",
        "\n",
        "* Highest number of loans are applied for Consumer Loans"
      ],
      "metadata": {
        "id": "AlQUm3stcZz8"
      }
    },
    {
      "cell_type": "code",
      "source": [
        "sns.countplot(prev_ap_merged[prev_ap_merged['NAME_CONTRACT_STATUS'] == \"Refused\"][\"CODE_REJECT_REASON\"], hue=prev_ap_merged.TARGET)\n",
        "plt.show()"
      ],
      "metadata": {
        "id": "bQm-UIwUcu2q",
        "outputId": "f8748048-1f1a-4a4a-e4be-a1332fcb4d03",
        "colab": {
          "base_uri": "https://localhost:8080/",
          "height": 337
        }
      },
      "execution_count": 48,
      "outputs": [
        {
          "output_type": "stream",
          "name": "stderr",
          "text": [
            "/usr/local/lib/python3.8/dist-packages/seaborn/_decorators.py:36: FutureWarning: Pass the following variable as a keyword arg: x. From version 0.12, the only valid positional argument will be `data`, and passing other arguments without an explicit keyword will result in an error or misinterpretation.\n",
            "  warnings.warn(\n"
          ]
        },
        {
          "output_type": "display_data",
          "data": {
            "text/plain": [
              "<Figure size 432x288 with 1 Axes>"
            ],
            "image/png": "[encoded data removed]"
          },
          "metadata": {}
        }
      ]
    },
    {
      "cell_type": "markdown",
      "source": [
        "**Insight**:\n",
        "*As seen in the above plot, 'SCO', 'LIMIT' and 'HC' are the most common reason of rejection."
      ],
      "metadata": {
        "id": "uca0vbnhc2GX"
      }
    },
    {
      "cell_type": "code",
      "source": [
        "sns.countplot(prev_ap_merged['NFLAG_INSURED_ON_APPROVAL'], hue=prev_ap_merged['TARGET'])\n",
        "plt.show()"
      ],
      "metadata": {
        "id": "Y4roO-1ucxjp",
        "outputId": "601efde2-13f3-44a6-b3a4-271f4f259309",
        "colab": {
          "base_uri": "https://localhost:8080/",
          "height": 337
        }
      },
      "execution_count": 49,
      "outputs": [
        {
          "output_type": "stream",
          "name": "stderr",
          "text": [
            "/usr/local/lib/python3.8/dist-packages/seaborn/_decorators.py:36: FutureWarning: Pass the following variable as a keyword arg: x. From version 0.12, the only valid positional argument will be `data`, and passing other arguments without an explicit keyword will result in an error or misinterpretation.\n",
            "  warnings.warn(\n"
          ]
        },
        {
          "output_type": "display_data",
          "data": {
            "text/plain": [
              "<Figure size 432x288 with 1 Axes>"
            ],
            "image/png": "[encoded data removed]"
          },
          "metadata": {}
        }
      ]
    },
    {
      "cell_type": "markdown",
      "source": [
        "###Insight\n",
        "\n",
        "*Most of the people did not request insurance during previous loan application.\n"
      ],
      "metadata": {
        "id": "Ni0aipHdc2dL"
      }
    },
    {
      "cell_type": "code",
      "source": [
        "fig = plt.figure(figsize=(12,6))\n",
        "\n",
        "ax1 = fig.add_subplot(1, 2, 1, title=\"NAME_CLIENT_TYPE\")\n",
        "ax2 = fig.add_subplot(1, 2, 2, title=\"NAME_PAYMENT_TYPE\")\n",
        "\n",
        "sns.countplot(prev_ap_merged['NAME_CLIENT_TYPE'], hue=prev_ap_merged['TARGET'], ax=ax1)\n",
        "sns.countplot(prev_ap_merged['NAME_PAYMENT_TYPE'], hue=prev_ap_merged['TARGET'], ax=ax2)\n",
        "plt.xticks(rotation=90)\n",
        "\n",
        "plt.tight_layout()\n",
        "\n",
        "plt.show()"
      ],
      "metadata": {
        "id": "1upgSIUpdCJB",
        "outputId": "05dc8a6c-1c66-4e20-ccd9-05a546fb323b",
        "colab": {
          "base_uri": "https://localhost:8080/",
          "height": 530
        }
      },
      "execution_count": 50,
      "outputs": [
        {
          "output_type": "stream",
          "name": "stderr",
          "text": [
            "/usr/local/lib/python3.8/dist-packages/seaborn/_decorators.py:36: FutureWarning: Pass the following variable as a keyword arg: x. From version 0.12, the only valid positional argument will be `data`, and passing other arguments without an explicit keyword will result in an error or misinterpretation.\n",
            "  warnings.warn(\n",
            "/usr/local/lib/python3.8/dist-packages/seaborn/_decorators.py:36: FutureWarning: Pass the following variable as a keyword arg: x. From version 0.12, the only valid positional argument will be `data`, and passing other arguments without an explicit keyword will result in an error or misinterpretation.\n",
            "  warnings.warn(\n"
          ]
        },
        {
          "output_type": "display_data",
          "data": {
            "text/plain": [
              "<Figure size 864x432 with 2 Axes>"
            ],
            "image/png": "[encoded data removed]"
          },
          "metadata": {}
        }
      ]
    },
    {
      "cell_type": "markdown",
      "source": [
        "###**Insight**:\n",
        "\n",
        "* Most of the applicants are repeater.\n",
        "* 'Cash through the bank' is the most frequently used payment method"
      ],
      "metadata": {
        "id": "tMkcVFV-deg8"
      }
    },
    {
      "cell_type": "code",
      "source": [
        "# This gives percentage of defaulter in total applicants having the same label of the category.\n",
        "# For example: In 100 applicants, whose'NAME_GOODS_CATEGORY' is Insurance\n",
        "# approx. 10 people have payment difficulty\n",
        "\n",
        "def value_wise_defaulter_percentage(df, col):\n",
        "    new_df = pd.DataFrame(columns=['Value', 'Percentage of Defaulter'])\n",
        "    \n",
        "    for value in df[col].unique():\n",
        "        default_cnt = df[(df[col] == value) & (df.TARGET == 1)].shape[0]\n",
        "        total_cnt = df[df[col] == value].shape[0]\n",
        "        new_df = new_df.append({'Value' : value , 'Percentage of Defaulter' : (default_cnt*100/total_cnt)}, ignore_index=True)\n",
        "    return new_df.sort_values(by='Percentage of Defaulter', ascending=False)"
      ],
      "metadata": {
        "id": "heO7_MRqdWOA"
      },
      "execution_count": 51,
      "outputs": []
    },
    {
      "cell_type": "code",
      "source": [
        "value_wise_defaulter_percentage(prev_ap_merged, 'NAME_GOODS_CATEGORY')"
      ],
      "metadata": {
        "id": "Dt6qgWgZdrcW",
        "outputId": "a97e56ea-61ec-49da-9dda-fed11e90d84d",
        "colab": {
          "base_uri": "https://localhost:8080/",
          "height": 896
        }
      },
      "execution_count": 52,
      "outputs": [
        {
          "output_type": "execute_result",
          "data": {
            "text/plain": [
              "                       Value  Percentage of Defaulter\n",
              "23                 Insurance                10.526316\n",
              "0                   Vehicles                10.257410\n",
              "14                   Jewelry                 9.124951\n",
              "17          Auto Accessories                 9.029763\n",
              "3                     Mobile                 8.615336\n",
              "15         Office Appliances                 8.307692\n",
              "8                  Computers                 8.074335\n",
              "20                    Weapon                 8.064516\n",
              "21              Direct Sales                 8.024691\n",
              "5                Audio/Video                 7.698706\n",
              "7   Photo / Cinema Equipment                 7.455000\n",
              "18         Sport and Leisure                 7.354150\n",
              "2       Consumer Electronics                 7.066548\n",
              "4     Construction Materials                 6.978320\n",
              "9                        XNA                 6.885879\n",
              "24        Additional Service                 6.730769\n",
              "6                  Gardening                 6.723063\n",
              "11                 Homewares                 6.706444\n",
              "19                  Medicine                 6.196747\n",
              "25                 Education                 5.882353\n",
              "1                  Furniture                 5.860781\n",
              "10  Clothing and Accessories                 5.807427\n",
              "13                     Other                 5.765921\n",
              "12          Medical Supplies                 5.564190\n",
              "16                   Tourism                 4.444444\n",
              "22                   Fitness                 4.268293\n",
              "26                   Animals                 0.000000"
            ],
            "text/html": [
              "\n",
              "  <div id=\"df-2d925bdc-4bfe-4b6f-9234-e90637aef069\">\n",
              "    <div class=\"colab-df-container\">\n",
              "      <div>\n",
              "<style scoped>\n",
              "    .dataframe tbody tr th:only-of-type {\n",
              "        vertical-align: middle;\n",
              "    }\n",
              "\n",
              "    .dataframe tbody tr th {\n",
              "        vertical-align: top;\n",
              "    }\n",
              "\n",
              "    .dataframe thead th {\n",
              "        text-align: right;\n",
              "    }\n",
              "</style>\n",
              "<table border=\"1\" class=\"dataframe\">\n",
              "  <thead>\n",
              "    <tr style=\"text-align: right;\">\n",
              "      <th></th>\n",
              "      <th>Value</th>\n",
              "      <th>Percentage of Defaulter</th>\n",
              "    </tr>\n",
              "  </thead>\n",
              "  <tbody>\n",
              "    <tr>\n",
              "      <th>23</th>\n",
              "      <td>Insurance</td>\n",
              "      <td>10.526316</td>\n",
              "    </tr>\n",
              "    <tr>\n",
              "      <th>0</th>\n",
              "      <td>Vehicles</td>\n",
              "      <td>10.257410</td>\n",
              "    </tr>\n",
              "    <tr>\n",
              "      <th>14</th>\n",
              "      <td>Jewelry</td>\n",
              "      <td>9.124951</td>\n",
              "    </tr>\n",
              "    <tr>\n",
              "      <th>17</th>\n",
              "      <td>Auto Accessories</td>\n",
              "      <td>9.029763</td>\n",
              "    </tr>\n",
              "    <tr>\n",
              "      <th>3</th>\n",
              "      <td>Mobile</td>\n",
              "      <td>8.615336</td>\n",
              "    </tr>\n",
              "    <tr>\n",
              "      <th>15</th>\n",
              "      <td>Office Appliances</td>\n",
              "      <td>8.307692</td>\n",
              "    </tr>\n",
              "    <tr>\n",
              "      <th>8</th>\n",
              "      <td>Computers</td>\n",
              "      <td>8.074335</td>\n",
              "    </tr>\n",
              "    <tr>\n",
              "      <th>20</th>\n",
              "      <td>Weapon</td>\n",
              "      <td>8.064516</td>\n",
              "    </tr>\n",
              "    <tr>\n",
              "      <th>21</th>\n",
              "      <td>Direct Sales</td>\n",
              "      <td>8.024691</td>\n",
              "    </tr>\n",
              "    <tr>\n",
              "      <th>5</th>\n",
              "      <td>Audio/Video</td>\n",
              "      <td>7.698706</td>\n",
              "    </tr>\n",
              "    <tr>\n",
              "      <th>7</th>\n",
              "      <td>Photo / Cinema Equipment</td>\n",
              "      <td>7.455000</td>\n",
              "    </tr>\n",
              "    <tr>\n",
              "      <th>18</th>\n",
              "      <td>Sport and Leisure</td>\n",
              "      <td>7.354150</td>\n",
              "    </tr>\n",
              "    <tr>\n",
              "      <th>2</th>\n",
              "      <td>Consumer Electronics</td>\n",
              "      <td>7.066548</td>\n",
              "    </tr>\n",
              "    <tr>\n",
              "      <th>4</th>\n",
              "      <td>Construction Materials</td>\n",
              "      <td>6.978320</td>\n",
              "    </tr>\n",
              "    <tr>\n",
              "      <th>9</th>\n",
              "      <td>XNA</td>\n",
              "      <td>6.885879</td>\n",
              "    </tr>\n",
              "    <tr>\n",
              "      <th>24</th>\n",
              "      <td>Additional Service</td>\n",
              "      <td>6.730769</td>\n",
              "    </tr>\n",
              "    <tr>\n",
              "      <th>6</th>\n",
              "      <td>Gardening</td>\n",
              "      <td>6.723063</td>\n",
              "    </tr>\n",
              "    <tr>\n",
              "      <th>11</th>\n",
              "      <td>Homewares</td>\n",
              "      <td>6.706444</td>\n",
              "    </tr>\n",
              "    <tr>\n",
              "      <th>19</th>\n",
              "      <td>Medicine</td>\n",
              "      <td>6.196747</td>\n",
              "    </tr>\n",
              "    <tr>\n",
              "      <th>25</th>\n",
              "      <td>Education</td>\n",
              "      <td>5.882353</td>\n",
              "    </tr>\n",
              "    <tr>\n",
              "      <th>1</th>\n",
              "      <td>Furniture</td>\n",
              "      <td>5.860781</td>\n",
              "    </tr>\n",
              "    <tr>\n",
              "      <th>10</th>\n",
              "      <td>Clothing and Accessories</td>\n",
              "      <td>5.807427</td>\n",
              "    </tr>\n",
              "    <tr>\n",
              "      <th>13</th>\n",
              "      <td>Other</td>\n",
              "      <td>5.765921</td>\n",
              "    </tr>\n",
              "    <tr>\n",
              "      <th>12</th>\n",
              "      <td>Medical Supplies</td>\n",
              "      <td>5.564190</td>\n",
              "    </tr>\n",
              "    <tr>\n",
              "      <th>16</th>\n",
              "      <td>Tourism</td>\n",
              "      <td>4.444444</td>\n",
              "    </tr>\n",
              "    <tr>\n",
              "      <th>22</th>\n",
              "      <td>Fitness</td>\n",
              "      <td>4.268293</td>\n",
              "    </tr>\n",
              "    <tr>\n",
              "      <th>26</th>\n",
              "      <td>Animals</td>\n",
              "      <td>0.000000</td>\n",
              "    </tr>\n",
              "  </tbody>\n",
              "</table>\n",
              "</div>\n",
              "      <button class=\"colab-df-convert\" onclick=\"convertToInteractive('df-2d925bdc-4bfe-4b6f-9234-e90637aef069')\"\n",
              "              title=\"Convert this dataframe to an interactive table.\"\n",
              "              style=\"display:none;\">\n",
              "        \n",
              "  <svg xmlns=\"http://www.w3.org/2000/svg\" height=\"24px\"viewBox=\"0 0 24 24\"\n",
              "       width=\"24px\">\n",
              "    <path d=\"M0 0h24v24H0V0z\" fill=\"none\"/>\n",
              "    <path d=\"M18.56 5.44l.94 2.06.94-2.06 2.06-.94-2.06-.94-.94-2.06-.94 2.06-2.06.94zm-11 1L8.5 8.5l.94-2.06 2.06-.94-2.06-.94L8.5 2.5l-.94 2.06-2.06.94zm10 10l.94 2.06.94-2.06 2.06-.94-2.06-.94-.94-2.06-.94 2.06-2.06.94z\"/><path d=\"M17.41 7.96l-1.37-1.37c-.4-.4-.92-.59-1.43-.59-.52 0-1.04.2-1.43.59L10.3 9.45l-7.72 7.72c-.78.78-.78 2.05 0 2.83L4 21.41c.39.39.9.59 1.41.59.51 0 1.02-.2 1.41-.59l7.78-7.78 2.81-2.81c.8-.78.8-2.07 0-2.86zM5.41 20L4 18.59l7.72-7.72 1.47 1.35L5.41 20z\"/>\n",
              "  </svg>\n",
              "      </button>\n",
              "      \n",
              "  <style>\n",
              "    .colab-df-container {\n",
              "      display:flex;\n",
              "      flex-wrap:wrap;\n",
              "      gap: 12px;\n",
              "    }\n",
              "\n",
              "    .colab-df-convert {\n",
              "      background-color: #E8F0FE;\n",
              "      border: none;\n",
              "      border-radius: 50%;\n",
              "      cursor: pointer;\n",
              "      display: none;\n",
              "      fill: #1967D2;\n",
              "      height: 32px;\n",
              "      padding: 0 0 0 0;\n",
              "      width: 32px;\n",
              "    }\n",
              "\n",
              "    .colab-df-convert:hover {\n",
              "      background-color: #E2EBFA;\n",
              "      box-shadow: 0px 1px 2px rgba(60, 64, 67, 0.3), 0px 1px 3px 1px rgba(60, 64, 67, 0.15);\n",
              "      fill: #174EA6;\n",
              "    }\n",
              "\n",
              "    [theme=dark] .colab-df-convert {\n",
              "      background-color: #3B4455;\n",
              "      fill: #D2E3FC;\n",
              "    }\n",
              "\n",
              "    [theme=dark] .colab-df-convert:hover {\n",
              "      background-color: #434B5C;\n",
              "      box-shadow: 0px 1px 3px 1px rgba(0, 0, 0, 0.15);\n",
              "      filter: drop-shadow(0px 1px 2px rgba(0, 0, 0, 0.3));\n",
              "      fill: #FFFFFF;\n",
              "    }\n",
              "  </style>\n",
              "\n",
              "      <script>\n",
              "        const buttonEl =\n",
              "          document.querySelector('#df-2d925bdc-4bfe-4b6f-9234-e90637aef069 button.colab-df-convert');\n",
              "        buttonEl.style.display =\n",
              "          google.colab.kernel.accessAllowed ? 'block' : 'none';\n",
              "\n",
              "        async function convertToInteractive(key) {\n",
              "          const element = document.querySelector('#df-2d925bdc-4bfe-4b6f-9234-e90637aef069');\n",
              "          const dataTable =\n",
              "            await google.colab.kernel.invokeFunction('convertToInteractive',\n",
              "                                                     [key], {});\n",
              "          if (!dataTable) return;\n",
              "\n",
              "          const docLinkHtml = 'Like what you see? Visit the ' +\n",
              "            '<a target=\"_blank\" href=https://colab.research.google.com/notebooks/data_table.ipynb>data table notebook</a>'\n",
              "            + ' to learn more about interactive tables.';\n",
              "          element.innerHTML = '';\n",
              "          dataTable['output_type'] = 'display_data';\n",
              "          await google.colab.output.renderOutput(dataTable, element);\n",
              "          const docLink = document.createElement('div');\n",
              "          docLink.innerHTML = docLinkHtml;\n",
              "          element.appendChild(docLink);\n",
              "        }\n",
              "      </script>\n",
              "    </div>\n",
              "  </div>\n",
              "  "
            ]
          },
          "metadata": {},
          "execution_count": 52
        }
      ]
    },
    {
      "cell_type": "markdown",
      "source": [
        "###**Insight**:\n",
        "\n",
        "* Highest percentage of default cases are for the applicants who previously applied for Insurance and Vehicles"
      ],
      "metadata": {
        "id": "mDlNmA-9d1Vr"
      }
    },
    {
      "cell_type": "code",
      "source": [
        "value_wise_defaulter_percentage(prev_ap_merged, 'NAME_PORTFOLIO')"
      ],
      "metadata": {
        "id": "qxTSBWLsdtw7",
        "outputId": "07a3b290-6939-4544-f5e6-ea9764cd59eb",
        "colab": {
          "base_uri": "https://localhost:8080/",
          "height": 175
        }
      },
      "execution_count": 53,
      "outputs": [
        {
          "output_type": "execute_result",
          "data": {
            "text/plain": [
              "   Value  Percentage of Defaulter\n",
              "2  Cards                17.119695\n",
              "0    POS                 7.666139\n",
              "1   Cash                 6.384448\n",
              "3   Cars                 0.000000"
            ],
            "text/html": [
              "\n",
              "  <div id=\"df-367419ec-907a-4e9f-9047-9251ede1b65f\">\n",
              "    <div class=\"colab-df-container\">\n",
              "      <div>\n",
              "<style scoped>\n",
              "    .dataframe tbody tr th:only-of-type {\n",
              "        vertical-align: middle;\n",
              "    }\n",
              "\n",
              "    .dataframe tbody tr th {\n",
              "        vertical-align: top;\n",
              "    }\n",
              "\n",
              "    .dataframe thead th {\n",
              "        text-align: right;\n",
              "    }\n",
              "</style>\n",
              "<table border=\"1\" class=\"dataframe\">\n",
              "  <thead>\n",
              "    <tr style=\"text-align: right;\">\n",
              "      <th></th>\n",
              "      <th>Value</th>\n",
              "      <th>Percentage of Defaulter</th>\n",
              "    </tr>\n",
              "  </thead>\n",
              "  <tbody>\n",
              "    <tr>\n",
              "      <th>2</th>\n",
              "      <td>Cards</td>\n",
              "      <td>17.119695</td>\n",
              "    </tr>\n",
              "    <tr>\n",
              "      <th>0</th>\n",
              "      <td>POS</td>\n",
              "      <td>7.666139</td>\n",
              "    </tr>\n",
              "    <tr>\n",
              "      <th>1</th>\n",
              "      <td>Cash</td>\n",
              "      <td>6.384448</td>\n",
              "    </tr>\n",
              "    <tr>\n",
              "      <th>3</th>\n",
              "      <td>Cars</td>\n",
              "      <td>0.000000</td>\n",
              "    </tr>\n",
              "  </tbody>\n",
              "</table>\n",
              "</div>\n",
              "      <button class=\"colab-df-convert\" onclick=\"convertToInteractive('df-367419ec-907a-4e9f-9047-9251ede1b65f')\"\n",
              "              title=\"Convert this dataframe to an interactive table.\"\n",
              "              style=\"display:none;\">\n",
              "        \n",
              "  <svg xmlns=\"http://www.w3.org/2000/svg\" height=\"24px\"viewBox=\"0 0 24 24\"\n",
              "       width=\"24px\">\n",
              "    <path d=\"M0 0h24v24H0V0z\" fill=\"none\"/>\n",
              "    <path d=\"M18.56 5.44l.94 2.06.94-2.06 2.06-.94-2.06-.94-.94-2.06-.94 2.06-2.06.94zm-11 1L8.5 8.5l.94-2.06 2.06-.94-2.06-.94L8.5 2.5l-.94 2.06-2.06.94zm10 10l.94 2.06.94-2.06 2.06-.94-2.06-.94-.94-2.06-.94 2.06-2.06.94z\"/><path d=\"M17.41 7.96l-1.37-1.37c-.4-.4-.92-.59-1.43-.59-.52 0-1.04.2-1.43.59L10.3 9.45l-7.72 7.72c-.78.78-.78 2.05 0 2.83L4 21.41c.39.39.9.59 1.41.59.51 0 1.02-.2 1.41-.59l7.78-7.78 2.81-2.81c.8-.78.8-2.07 0-2.86zM5.41 20L4 18.59l7.72-7.72 1.47 1.35L5.41 20z\"/>\n",
              "  </svg>\n",
              "      </button>\n",
              "      \n",
              "  <style>\n",
              "    .colab-df-container {\n",
              "      display:flex;\n",
              "      flex-wrap:wrap;\n",
              "      gap: 12px;\n",
              "    }\n",
              "\n",
              "    .colab-df-convert {\n",
              "      background-color: #E8F0FE;\n",
              "      border: none;\n",
              "      border-radius: 50%;\n",
              "      cursor: pointer;\n",
              "      display: none;\n",
              "      fill: #1967D2;\n",
              "      height: 32px;\n",
              "      padding: 0 0 0 0;\n",
              "      width: 32px;\n",
              "    }\n",
              "\n",
              "    .colab-df-convert:hover {\n",
              "      background-color: #E2EBFA;\n",
              "      box-shadow: 0px 1px 2px rgba(60, 64, 67, 0.3), 0px 1px 3px 1px rgba(60, 64, 67, 0.15);\n",
              "      fill: #174EA6;\n",
              "    }\n",
              "\n",
              "    [theme=dark] .colab-df-convert {\n",
              "      background-color: #3B4455;\n",
              "      fill: #D2E3FC;\n",
              "    }\n",
              "\n",
              "    [theme=dark] .colab-df-convert:hover {\n",
              "      background-color: #434B5C;\n",
              "      box-shadow: 0px 1px 3px 1px rgba(0, 0, 0, 0.15);\n",
              "      filter: drop-shadow(0px 1px 2px rgba(0, 0, 0, 0.3));\n",
              "      fill: #FFFFFF;\n",
              "    }\n",
              "  </style>\n",
              "\n",
              "      <script>\n",
              "        const buttonEl =\n",
              "          document.querySelector('#df-367419ec-907a-4e9f-9047-9251ede1b65f button.colab-df-convert');\n",
              "        buttonEl.style.display =\n",
              "          google.colab.kernel.accessAllowed ? 'block' : 'none';\n",
              "\n",
              "        async function convertToInteractive(key) {\n",
              "          const element = document.querySelector('#df-367419ec-907a-4e9f-9047-9251ede1b65f');\n",
              "          const dataTable =\n",
              "            await google.colab.kernel.invokeFunction('convertToInteractive',\n",
              "                                                     [key], {});\n",
              "          if (!dataTable) return;\n",
              "\n",
              "          const docLinkHtml = 'Like what you see? Visit the ' +\n",
              "            '<a target=\"_blank\" href=https://colab.research.google.com/notebooks/data_table.ipynb>data table notebook</a>'\n",
              "            + ' to learn more about interactive tables.';\n",
              "          element.innerHTML = '';\n",
              "          dataTable['output_type'] = 'display_data';\n",
              "          await google.colab.output.renderOutput(dataTable, element);\n",
              "          const docLink = document.createElement('div');\n",
              "          docLink.innerHTML = docLinkHtml;\n",
              "          element.appendChild(docLink);\n",
              "        }\n",
              "      </script>\n",
              "    </div>\n",
              "  </div>\n",
              "  "
            ]
          },
          "metadata": {},
          "execution_count": 53
        }
      ]
    },
    {
      "cell_type": "markdown",
      "source": [
        "###**Insight**: For Cards defaulter rate is highest."
      ],
      "metadata": {
        "id": "yBpjoMs-d9uS"
      }
    },
    {
      "cell_type": "code",
      "source": [
        "\n",
        "value_wise_defaulter_percentage(prev_ap_merged, 'NAME_PRODUCT_TYPE')"
      ],
      "metadata": {
        "id": "ptnfsYigd8SS",
        "outputId": "eeea63e2-f09e-4eed-d954-d994ef03e8b4",
        "colab": {
          "base_uri": "https://localhost:8080/",
          "height": 143
        }
      },
      "execution_count": 54,
      "outputs": [
        {
          "output_type": "execute_result",
          "data": {
            "text/plain": [
              "     Value  Percentage of Defaulter\n",
              "1  walk-in                 9.165550\n",
              "0      XNA                 7.665995\n",
              "2   x-sell                 6.036420"
            ],
            "text/html": [
              "\n",
              "  <div id=\"df-6f924c5f-1909-4888-8949-eb1cafc21df8\">\n",
              "    <div class=\"colab-df-container\">\n",
              "      <div>\n",
              "<style scoped>\n",
              "    .dataframe tbody tr th:only-of-type {\n",
              "        vertical-align: middle;\n",
              "    }\n",
              "\n",
              "    .dataframe tbody tr th {\n",
              "        vertical-align: top;\n",
              "    }\n",
              "\n",
              "    .dataframe thead th {\n",
              "        text-align: right;\n",
              "    }\n",
              "</style>\n",
              "<table border=\"1\" class=\"dataframe\">\n",
              "  <thead>\n",
              "    <tr style=\"text-align: right;\">\n",
              "      <th></th>\n",
              "      <th>Value</th>\n",
              "      <th>Percentage of Defaulter</th>\n",
              "    </tr>\n",
              "  </thead>\n",
              "  <tbody>\n",
              "    <tr>\n",
              "      <th>1</th>\n",
              "      <td>walk-in</td>\n",
              "      <td>9.165550</td>\n",
              "    </tr>\n",
              "    <tr>\n",
              "      <th>0</th>\n",
              "      <td>XNA</td>\n",
              "      <td>7.665995</td>\n",
              "    </tr>\n",
              "    <tr>\n",
              "      <th>2</th>\n",
              "      <td>x-sell</td>\n",
              "      <td>6.036420</td>\n",
              "    </tr>\n",
              "  </tbody>\n",
              "</table>\n",
              "</div>\n",
              "      <button class=\"colab-df-convert\" onclick=\"convertToInteractive('df-6f924c5f-1909-4888-8949-eb1cafc21df8')\"\n",
              "              title=\"Convert this dataframe to an interactive table.\"\n",
              "              style=\"display:none;\">\n",
              "        \n",
              "  <svg xmlns=\"http://www.w3.org/2000/svg\" height=\"24px\"viewBox=\"0 0 24 24\"\n",
              "       width=\"24px\">\n",
              "    <path d=\"M0 0h24v24H0V0z\" fill=\"none\"/>\n",
              "    <path d=\"M18.56 5.44l.94 2.06.94-2.06 2.06-.94-2.06-.94-.94-2.06-.94 2.06-2.06.94zm-11 1L8.5 8.5l.94-2.06 2.06-.94-2.06-.94L8.5 2.5l-.94 2.06-2.06.94zm10 10l.94 2.06.94-2.06 2.06-.94-2.06-.94-.94-2.06-.94 2.06-2.06.94z\"/><path d=\"M17.41 7.96l-1.37-1.37c-.4-.4-.92-.59-1.43-.59-.52 0-1.04.2-1.43.59L10.3 9.45l-7.72 7.72c-.78.78-.78 2.05 0 2.83L4 21.41c.39.39.9.59 1.41.59.51 0 1.02-.2 1.41-.59l7.78-7.78 2.81-2.81c.8-.78.8-2.07 0-2.86zM5.41 20L4 18.59l7.72-7.72 1.47 1.35L5.41 20z\"/>\n",
              "  </svg>\n",
              "      </button>\n",
              "      \n",
              "  <style>\n",
              "    .colab-df-container {\n",
              "      display:flex;\n",
              "      flex-wrap:wrap;\n",
              "      gap: 12px;\n",
              "    }\n",
              "\n",
              "    .colab-df-convert {\n",
              "      background-color: #E8F0FE;\n",
              "      border: none;\n",
              "      border-radius: 50%;\n",
              "      cursor: pointer;\n",
              "      display: none;\n",
              "      fill: #1967D2;\n",
              "      height: 32px;\n",
              "      padding: 0 0 0 0;\n",
              "      width: 32px;\n",
              "    }\n",
              "\n",
              "    .colab-df-convert:hover {\n",
              "      background-color: #E2EBFA;\n",
              "      box-shadow: 0px 1px 2px rgba(60, 64, 67, 0.3), 0px 1px 3px 1px rgba(60, 64, 67, 0.15);\n",
              "      fill: #174EA6;\n",
              "    }\n",
              "\n",
              "    [theme=dark] .colab-df-convert {\n",
              "      background-color: #3B4455;\n",
              "      fill: #D2E3FC;\n",
              "    }\n",
              "\n",
              "    [theme=dark] .colab-df-convert:hover {\n",
              "      background-color: #434B5C;\n",
              "      box-shadow: 0px 1px 3px 1px rgba(0, 0, 0, 0.15);\n",
              "      filter: drop-shadow(0px 1px 2px rgba(0, 0, 0, 0.3));\n",
              "      fill: #FFFFFF;\n",
              "    }\n",
              "  </style>\n",
              "\n",
              "      <script>\n",
              "        const buttonEl =\n",
              "          document.querySelector('#df-6f924c5f-1909-4888-8949-eb1cafc21df8 button.colab-df-convert');\n",
              "        buttonEl.style.display =\n",
              "          google.colab.kernel.accessAllowed ? 'block' : 'none';\n",
              "\n",
              "        async function convertToInteractive(key) {\n",
              "          const element = document.querySelector('#df-6f924c5f-1909-4888-8949-eb1cafc21df8');\n",
              "          const dataTable =\n",
              "            await google.colab.kernel.invokeFunction('convertToInteractive',\n",
              "                                                     [key], {});\n",
              "          if (!dataTable) return;\n",
              "\n",
              "          const docLinkHtml = 'Like what you see? Visit the ' +\n",
              "            '<a target=\"_blank\" href=https://colab.research.google.com/notebooks/data_table.ipynb>data table notebook</a>'\n",
              "            + ' to learn more about interactive tables.';\n",
              "          element.innerHTML = '';\n",
              "          dataTable['output_type'] = 'display_data';\n",
              "          await google.colab.output.renderOutput(dataTable, element);\n",
              "          const docLink = document.createElement('div');\n",
              "          docLink.innerHTML = docLinkHtml;\n",
              "          element.appendChild(docLink);\n",
              "        }\n",
              "      </script>\n",
              "    </div>\n",
              "  </div>\n",
              "  "
            ]
          },
          "metadata": {},
          "execution_count": 54
        }
      ]
    },
    {
      "cell_type": "markdown",
      "source": [
        "###**Insight**:\n",
        "\n",
        "* From all the walk-in applicants 9% defaulted in current loan."
      ],
      "metadata": {
        "id": "8htUlWtbeJpH"
      }
    },
    {
      "cell_type": "code",
      "source": [
        "value_wise_defaulter_percentage(prev_ap_merged, 'CHANNEL_TYPE')"
      ],
      "metadata": {
        "id": "CatvAOCZeEbE",
        "outputId": "ce249233-743e-434c-c812-b7cb498fc744",
        "colab": {
          "base_uri": "https://localhost:8080/",
          "height": 269
        }
      },
      "execution_count": 55,
      "outputs": [
        {
          "output_type": "execute_result",
          "data": {
            "text/plain": [
              "                     Value  Percentage of Defaulter\n",
              "4          AP+ (Cash loan)                15.000000\n",
              "1             Country-wide                 7.908171\n",
              "2         Regional / Local                 7.551291\n",
              "0                    Stone                 7.294692\n",
              "3  Credit and cash offices                 6.124197\n",
              "5           Contact center                 4.545455\n",
              "6               Car dealer                 0.000000"
            ],
            "text/html": [
              "\n",
              "  <div id=\"df-3d97ffb2-851e-4e93-8a00-a9e53cdb6652\">\n",
              "    <div class=\"colab-df-container\">\n",
              "      <div>\n",
              "<style scoped>\n",
              "    .dataframe tbody tr th:only-of-type {\n",
              "        vertical-align: middle;\n",
              "    }\n",
              "\n",
              "    .dataframe tbody tr th {\n",
              "        vertical-align: top;\n",
              "    }\n",
              "\n",
              "    .dataframe thead th {\n",
              "        text-align: right;\n",
              "    }\n",
              "</style>\n",
              "<table border=\"1\" class=\"dataframe\">\n",
              "  <thead>\n",
              "    <tr style=\"text-align: right;\">\n",
              "      <th></th>\n",
              "      <th>Value</th>\n",
              "      <th>Percentage of Defaulter</th>\n",
              "    </tr>\n",
              "  </thead>\n",
              "  <tbody>\n",
              "    <tr>\n",
              "      <th>4</th>\n",
              "      <td>AP+ (Cash loan)</td>\n",
              "      <td>15.000000</td>\n",
              "    </tr>\n",
              "    <tr>\n",
              "      <th>1</th>\n",
              "      <td>Country-wide</td>\n",
              "      <td>7.908171</td>\n",
              "    </tr>\n",
              "    <tr>\n",
              "      <th>2</th>\n",
              "      <td>Regional / Local</td>\n",
              "      <td>7.551291</td>\n",
              "    </tr>\n",
              "    <tr>\n",
              "      <th>0</th>\n",
              "      <td>Stone</td>\n",
              "      <td>7.294692</td>\n",
              "    </tr>\n",
              "    <tr>\n",
              "      <th>3</th>\n",
              "      <td>Credit and cash offices</td>\n",
              "      <td>6.124197</td>\n",
              "    </tr>\n",
              "    <tr>\n",
              "      <th>5</th>\n",
              "      <td>Contact center</td>\n",
              "      <td>4.545455</td>\n",
              "    </tr>\n",
              "    <tr>\n",
              "      <th>6</th>\n",
              "      <td>Car dealer</td>\n",
              "      <td>0.000000</td>\n",
              "    </tr>\n",
              "  </tbody>\n",
              "</table>\n",
              "</div>\n",
              "      <button class=\"colab-df-convert\" onclick=\"convertToInteractive('df-3d97ffb2-851e-4e93-8a00-a9e53cdb6652')\"\n",
              "              title=\"Convert this dataframe to an interactive table.\"\n",
              "              style=\"display:none;\">\n",
              "        \n",
              "  <svg xmlns=\"http://www.w3.org/2000/svg\" height=\"24px\"viewBox=\"0 0 24 24\"\n",
              "       width=\"24px\">\n",
              "    <path d=\"M0 0h24v24H0V0z\" fill=\"none\"/>\n",
              "    <path d=\"M18.56 5.44l.94 2.06.94-2.06 2.06-.94-2.06-.94-.94-2.06-.94 2.06-2.06.94zm-11 1L8.5 8.5l.94-2.06 2.06-.94-2.06-.94L8.5 2.5l-.94 2.06-2.06.94zm10 10l.94 2.06.94-2.06 2.06-.94-2.06-.94-.94-2.06-.94 2.06-2.06.94z\"/><path d=\"M17.41 7.96l-1.37-1.37c-.4-.4-.92-.59-1.43-.59-.52 0-1.04.2-1.43.59L10.3 9.45l-7.72 7.72c-.78.78-.78 2.05 0 2.83L4 21.41c.39.39.9.59 1.41.59.51 0 1.02-.2 1.41-.59l7.78-7.78 2.81-2.81c.8-.78.8-2.07 0-2.86zM5.41 20L4 18.59l7.72-7.72 1.47 1.35L5.41 20z\"/>\n",
              "  </svg>\n",
              "      </button>\n",
              "      \n",
              "  <style>\n",
              "    .colab-df-container {\n",
              "      display:flex;\n",
              "      flex-wrap:wrap;\n",
              "      gap: 12px;\n",
              "    }\n",
              "\n",
              "    .colab-df-convert {\n",
              "      background-color: #E8F0FE;\n",
              "      border: none;\n",
              "      border-radius: 50%;\n",
              "      cursor: pointer;\n",
              "      display: none;\n",
              "      fill: #1967D2;\n",
              "      height: 32px;\n",
              "      padding: 0 0 0 0;\n",
              "      width: 32px;\n",
              "    }\n",
              "\n",
              "    .colab-df-convert:hover {\n",
              "      background-color: #E2EBFA;\n",
              "      box-shadow: 0px 1px 2px rgba(60, 64, 67, 0.3), 0px 1px 3px 1px rgba(60, 64, 67, 0.15);\n",
              "      fill: #174EA6;\n",
              "    }\n",
              "\n",
              "    [theme=dark] .colab-df-convert {\n",
              "      background-color: #3B4455;\n",
              "      fill: #D2E3FC;\n",
              "    }\n",
              "\n",
              "    [theme=dark] .colab-df-convert:hover {\n",
              "      background-color: #434B5C;\n",
              "      box-shadow: 0px 1px 3px 1px rgba(0, 0, 0, 0.15);\n",
              "      filter: drop-shadow(0px 1px 2px rgba(0, 0, 0, 0.3));\n",
              "      fill: #FFFFFF;\n",
              "    }\n",
              "  </style>\n",
              "\n",
              "      <script>\n",
              "        const buttonEl =\n",
              "          document.querySelector('#df-3d97ffb2-851e-4e93-8a00-a9e53cdb6652 button.colab-df-convert');\n",
              "        buttonEl.style.display =\n",
              "          google.colab.kernel.accessAllowed ? 'block' : 'none';\n",
              "\n",
              "        async function convertToInteractive(key) {\n",
              "          const element = document.querySelector('#df-3d97ffb2-851e-4e93-8a00-a9e53cdb6652');\n",
              "          const dataTable =\n",
              "            await google.colab.kernel.invokeFunction('convertToInteractive',\n",
              "                                                     [key], {});\n",
              "          if (!dataTable) return;\n",
              "\n",
              "          const docLinkHtml = 'Like what you see? Visit the ' +\n",
              "            '<a target=\"_blank\" href=https://colab.research.google.com/notebooks/data_table.ipynb>data table notebook</a>'\n",
              "            + ' to learn more about interactive tables.';\n",
              "          element.innerHTML = '';\n",
              "          dataTable['output_type'] = 'display_data';\n",
              "          await google.colab.output.renderOutput(dataTable, element);\n",
              "          const docLink = document.createElement('div');\n",
              "          docLink.innerHTML = docLinkHtml;\n",
              "          element.appendChild(docLink);\n",
              "        }\n",
              "      </script>\n",
              "    </div>\n",
              "  </div>\n",
              "  "
            ]
          },
          "metadata": {},
          "execution_count": 55
        }
      ]
    },
    {
      "cell_type": "markdown",
      "source": [
        "###**Insight**:\n",
        "\n",
        "15% loan applicatiant defaulted for AP+ (Cash Loan)"
      ],
      "metadata": {
        "id": "Qk8-0qLOeRg4"
      }
    },
    {
      "cell_type": "code",
      "source": [
        "value_wise_defaulter_percentage(prev_ap_merged, 'NAME_SELLER_INDUSTRY')"
      ],
      "metadata": {
        "id": "0AsZ-UEWePOO",
        "outputId": "a944ee3d-69db-45cc-b4ad-4cd5c88b6e85",
        "colab": {
          "base_uri": "https://localhost:8080/",
          "height": 394
        }
      },
      "execution_count": 56,
      "outputs": [
        {
          "output_type": "execute_result",
          "data": {
            "text/plain": [
              "                   Value  Percentage of Defaulter\n",
              "0        Auto technology                10.522088\n",
              "9                Jewelry                 9.019221\n",
              "3           Connectivity                 8.780637\n",
              "2   Consumer electronics                 7.451983\n",
              "7               Industry                 7.211664\n",
              "4           Construction                 6.597424\n",
              "5                    XNA                 6.226598\n",
              "1              Furniture                 5.924492\n",
              "6               Clothing                 5.857399\n",
              "8                Tourism                 4.778157\n",
              "10          MLM partners                 4.654655"
            ],
            "text/html": [
              "\n",
              "  <div id=\"df-ff1fb5e9-1d6f-4d24-964f-a955e3c11c39\">\n",
              "    <div class=\"colab-df-container\">\n",
              "      <div>\n",
              "<style scoped>\n",
              "    .dataframe tbody tr th:only-of-type {\n",
              "        vertical-align: middle;\n",
              "    }\n",
              "\n",
              "    .dataframe tbody tr th {\n",
              "        vertical-align: top;\n",
              "    }\n",
              "\n",
              "    .dataframe thead th {\n",
              "        text-align: right;\n",
              "    }\n",
              "</style>\n",
              "<table border=\"1\" class=\"dataframe\">\n",
              "  <thead>\n",
              "    <tr style=\"text-align: right;\">\n",
              "      <th></th>\n",
              "      <th>Value</th>\n",
              "      <th>Percentage of Defaulter</th>\n",
              "    </tr>\n",
              "  </thead>\n",
              "  <tbody>\n",
              "    <tr>\n",
              "      <th>0</th>\n",
              "      <td>Auto technology</td>\n",
              "      <td>10.522088</td>\n",
              "    </tr>\n",
              "    <tr>\n",
              "      <th>9</th>\n",
              "      <td>Jewelry</td>\n",
              "      <td>9.019221</td>\n",
              "    </tr>\n",
              "    <tr>\n",
              "      <th>3</th>\n",
              "      <td>Connectivity</td>\n",
              "      <td>8.780637</td>\n",
              "    </tr>\n",
              "    <tr>\n",
              "      <th>2</th>\n",
              "      <td>Consumer electronics</td>\n",
              "      <td>7.451983</td>\n",
              "    </tr>\n",
              "    <tr>\n",
              "      <th>7</th>\n",
              "      <td>Industry</td>\n",
              "      <td>7.211664</td>\n",
              "    </tr>\n",
              "    <tr>\n",
              "      <th>4</th>\n",
              "      <td>Construction</td>\n",
              "      <td>6.597424</td>\n",
              "    </tr>\n",
              "    <tr>\n",
              "      <th>5</th>\n",
              "      <td>XNA</td>\n",
              "      <td>6.226598</td>\n",
              "    </tr>\n",
              "    <tr>\n",
              "      <th>1</th>\n",
              "      <td>Furniture</td>\n",
              "      <td>5.924492</td>\n",
              "    </tr>\n",
              "    <tr>\n",
              "      <th>6</th>\n",
              "      <td>Clothing</td>\n",
              "      <td>5.857399</td>\n",
              "    </tr>\n",
              "    <tr>\n",
              "      <th>8</th>\n",
              "      <td>Tourism</td>\n",
              "      <td>4.778157</td>\n",
              "    </tr>\n",
              "    <tr>\n",
              "      <th>10</th>\n",
              "      <td>MLM partners</td>\n",
              "      <td>4.654655</td>\n",
              "    </tr>\n",
              "  </tbody>\n",
              "</table>\n",
              "</div>\n",
              "      <button class=\"colab-df-convert\" onclick=\"convertToInteractive('df-ff1fb5e9-1d6f-4d24-964f-a955e3c11c39')\"\n",
              "              title=\"Convert this dataframe to an interactive table.\"\n",
              "              style=\"display:none;\">\n",
              "        \n",
              "  <svg xmlns=\"http://www.w3.org/2000/svg\" height=\"24px\"viewBox=\"0 0 24 24\"\n",
              "       width=\"24px\">\n",
              "    <path d=\"M0 0h24v24H0V0z\" fill=\"none\"/>\n",
              "    <path d=\"M18.56 5.44l.94 2.06.94-2.06 2.06-.94-2.06-.94-.94-2.06-.94 2.06-2.06.94zm-11 1L8.5 8.5l.94-2.06 2.06-.94-2.06-.94L8.5 2.5l-.94 2.06-2.06.94zm10 10l.94 2.06.94-2.06 2.06-.94-2.06-.94-.94-2.06-.94 2.06-2.06.94z\"/><path d=\"M17.41 7.96l-1.37-1.37c-.4-.4-.92-.59-1.43-.59-.52 0-1.04.2-1.43.59L10.3 9.45l-7.72 7.72c-.78.78-.78 2.05 0 2.83L4 21.41c.39.39.9.59 1.41.59.51 0 1.02-.2 1.41-.59l7.78-7.78 2.81-2.81c.8-.78.8-2.07 0-2.86zM5.41 20L4 18.59l7.72-7.72 1.47 1.35L5.41 20z\"/>\n",
              "  </svg>\n",
              "      </button>\n",
              "      \n",
              "  <style>\n",
              "    .colab-df-container {\n",
              "      display:flex;\n",
              "      flex-wrap:wrap;\n",
              "      gap: 12px;\n",
              "    }\n",
              "\n",
              "    .colab-df-convert {\n",
              "      background-color: #E8F0FE;\n",
              "      border: none;\n",
              "      border-radius: 50%;\n",
              "      cursor: pointer;\n",
              "      display: none;\n",
              "      fill: #1967D2;\n",
              "      height: 32px;\n",
              "      padding: 0 0 0 0;\n",
              "      width: 32px;\n",
              "    }\n",
              "\n",
              "    .colab-df-convert:hover {\n",
              "      background-color: #E2EBFA;\n",
              "      box-shadow: 0px 1px 2px rgba(60, 64, 67, 0.3), 0px 1px 3px 1px rgba(60, 64, 67, 0.15);\n",
              "      fill: #174EA6;\n",
              "    }\n",
              "\n",
              "    [theme=dark] .colab-df-convert {\n",
              "      background-color: #3B4455;\n",
              "      fill: #D2E3FC;\n",
              "    }\n",
              "\n",
              "    [theme=dark] .colab-df-convert:hover {\n",
              "      background-color: #434B5C;\n",
              "      box-shadow: 0px 1px 3px 1px rgba(0, 0, 0, 0.15);\n",
              "      filter: drop-shadow(0px 1px 2px rgba(0, 0, 0, 0.3));\n",
              "      fill: #FFFFFF;\n",
              "    }\n",
              "  </style>\n",
              "\n",
              "      <script>\n",
              "        const buttonEl =\n",
              "          document.querySelector('#df-ff1fb5e9-1d6f-4d24-964f-a955e3c11c39 button.colab-df-convert');\n",
              "        buttonEl.style.display =\n",
              "          google.colab.kernel.accessAllowed ? 'block' : 'none';\n",
              "\n",
              "        async function convertToInteractive(key) {\n",
              "          const element = document.querySelector('#df-ff1fb5e9-1d6f-4d24-964f-a955e3c11c39');\n",
              "          const dataTable =\n",
              "            await google.colab.kernel.invokeFunction('convertToInteractive',\n",
              "                                                     [key], {});\n",
              "          if (!dataTable) return;\n",
              "\n",
              "          const docLinkHtml = 'Like what you see? Visit the ' +\n",
              "            '<a target=\"_blank\" href=https://colab.research.google.com/notebooks/data_table.ipynb>data table notebook</a>'\n",
              "            + ' to learn more about interactive tables.';\n",
              "          element.innerHTML = '';\n",
              "          dataTable['output_type'] = 'display_data';\n",
              "          await google.colab.output.renderOutput(dataTable, element);\n",
              "          const docLink = document.createElement('div');\n",
              "          docLink.innerHTML = docLinkHtml;\n",
              "          element.appendChild(docLink);\n",
              "        }\n",
              "      </script>\n",
              "    </div>\n",
              "  </div>\n",
              "  "
            ]
          },
          "metadata": {},
          "execution_count": 56
        }
      ]
    },
    {
      "cell_type": "markdown",
      "source": [
        "**Insight**:\n",
        "\n",
        "* In seller Industry \"Auto technology\" has highest rate of defaulter\n",
        "* MLM partners has lowest number of defaulters"
      ],
      "metadata": {
        "id": "0IjLLthjeZye"
      }
    },
    {
      "cell_type": "code",
      "source": [
        "value_wise_defaulter_percentage(prev_ap_merged, 'NAME_YIELD_GROUP')"
      ],
      "metadata": {
        "id": "w7yNhar1eXWF",
        "outputId": "ba691aac-3c0a-4642-e36f-bf5d5eb445ac",
        "colab": {
          "base_uri": "https://localhost:8080/",
          "height": 206
        }
      },
      "execution_count": 57,
      "outputs": [
        {
          "output_type": "execute_result",
          "data": {
            "text/plain": [
              "        Value  Percentage of Defaulter\n",
              "4         XNA                17.119695\n",
              "2        high                 8.340935\n",
              "1      middle                 7.558098\n",
              "0  low_normal                 6.844973\n",
              "3  low_action                 6.608936"
            ],
            "text/html": [
              "\n",
              "  <div id=\"df-0e9b8b74-619d-4a89-af0d-e13c726b6724\">\n",
              "    <div class=\"colab-df-container\">\n",
              "      <div>\n",
              "<style scoped>\n",
              "    .dataframe tbody tr th:only-of-type {\n",
              "        vertical-align: middle;\n",
              "    }\n",
              "\n",
              "    .dataframe tbody tr th {\n",
              "        vertical-align: top;\n",
              "    }\n",
              "\n",
              "    .dataframe thead th {\n",
              "        text-align: right;\n",
              "    }\n",
              "</style>\n",
              "<table border=\"1\" class=\"dataframe\">\n",
              "  <thead>\n",
              "    <tr style=\"text-align: right;\">\n",
              "      <th></th>\n",
              "      <th>Value</th>\n",
              "      <th>Percentage of Defaulter</th>\n",
              "    </tr>\n",
              "  </thead>\n",
              "  <tbody>\n",
              "    <tr>\n",
              "      <th>4</th>\n",
              "      <td>XNA</td>\n",
              "      <td>17.119695</td>\n",
              "    </tr>\n",
              "    <tr>\n",
              "      <th>2</th>\n",
              "      <td>high</td>\n",
              "      <td>8.340935</td>\n",
              "    </tr>\n",
              "    <tr>\n",
              "      <th>1</th>\n",
              "      <td>middle</td>\n",
              "      <td>7.558098</td>\n",
              "    </tr>\n",
              "    <tr>\n",
              "      <th>0</th>\n",
              "      <td>low_normal</td>\n",
              "      <td>6.844973</td>\n",
              "    </tr>\n",
              "    <tr>\n",
              "      <th>3</th>\n",
              "      <td>low_action</td>\n",
              "      <td>6.608936</td>\n",
              "    </tr>\n",
              "  </tbody>\n",
              "</table>\n",
              "</div>\n",
              "      <button class=\"colab-df-convert\" onclick=\"convertToInteractive('df-0e9b8b74-619d-4a89-af0d-e13c726b6724')\"\n",
              "              title=\"Convert this dataframe to an interactive table.\"\n",
              "              style=\"display:none;\">\n",
              "        \n",
              "  <svg xmlns=\"http://www.w3.org/2000/svg\" height=\"24px\"viewBox=\"0 0 24 24\"\n",
              "       width=\"24px\">\n",
              "    <path d=\"M0 0h24v24H0V0z\" fill=\"none\"/>\n",
              "    <path d=\"M18.56 5.44l.94 2.06.94-2.06 2.06-.94-2.06-.94-.94-2.06-.94 2.06-2.06.94zm-11 1L8.5 8.5l.94-2.06 2.06-.94-2.06-.94L8.5 2.5l-.94 2.06-2.06.94zm10 10l.94 2.06.94-2.06 2.06-.94-2.06-.94-.94-2.06-.94 2.06-2.06.94z\"/><path d=\"M17.41 7.96l-1.37-1.37c-.4-.4-.92-.59-1.43-.59-.52 0-1.04.2-1.43.59L10.3 9.45l-7.72 7.72c-.78.78-.78 2.05 0 2.83L4 21.41c.39.39.9.59 1.41.59.51 0 1.02-.2 1.41-.59l7.78-7.78 2.81-2.81c.8-.78.8-2.07 0-2.86zM5.41 20L4 18.59l7.72-7.72 1.47 1.35L5.41 20z\"/>\n",
              "  </svg>\n",
              "      </button>\n",
              "      \n",
              "  <style>\n",
              "    .colab-df-container {\n",
              "      display:flex;\n",
              "      flex-wrap:wrap;\n",
              "      gap: 12px;\n",
              "    }\n",
              "\n",
              "    .colab-df-convert {\n",
              "      background-color: #E8F0FE;\n",
              "      border: none;\n",
              "      border-radius: 50%;\n",
              "      cursor: pointer;\n",
              "      display: none;\n",
              "      fill: #1967D2;\n",
              "      height: 32px;\n",
              "      padding: 0 0 0 0;\n",
              "      width: 32px;\n",
              "    }\n",
              "\n",
              "    .colab-df-convert:hover {\n",
              "      background-color: #E2EBFA;\n",
              "      box-shadow: 0px 1px 2px rgba(60, 64, 67, 0.3), 0px 1px 3px 1px rgba(60, 64, 67, 0.15);\n",
              "      fill: #174EA6;\n",
              "    }\n",
              "\n",
              "    [theme=dark] .colab-df-convert {\n",
              "      background-color: #3B4455;\n",
              "      fill: #D2E3FC;\n",
              "    }\n",
              "\n",
              "    [theme=dark] .colab-df-convert:hover {\n",
              "      background-color: #434B5C;\n",
              "      box-shadow: 0px 1px 3px 1px rgba(0, 0, 0, 0.15);\n",
              "      filter: drop-shadow(0px 1px 2px rgba(0, 0, 0, 0.3));\n",
              "      fill: #FFFFFF;\n",
              "    }\n",
              "  </style>\n",
              "\n",
              "      <script>\n",
              "        const buttonEl =\n",
              "          document.querySelector('#df-0e9b8b74-619d-4a89-af0d-e13c726b6724 button.colab-df-convert');\n",
              "        buttonEl.style.display =\n",
              "          google.colab.kernel.accessAllowed ? 'block' : 'none';\n",
              "\n",
              "        async function convertToInteractive(key) {\n",
              "          const element = document.querySelector('#df-0e9b8b74-619d-4a89-af0d-e13c726b6724');\n",
              "          const dataTable =\n",
              "            await google.colab.kernel.invokeFunction('convertToInteractive',\n",
              "                                                     [key], {});\n",
              "          if (!dataTable) return;\n",
              "\n",
              "          const docLinkHtml = 'Like what you see? Visit the ' +\n",
              "            '<a target=\"_blank\" href=https://colab.research.google.com/notebooks/data_table.ipynb>data table notebook</a>'\n",
              "            + ' to learn more about interactive tables.';\n",
              "          element.innerHTML = '';\n",
              "          dataTable['output_type'] = 'display_data';\n",
              "          await google.colab.output.renderOutput(dataTable, element);\n",
              "          const docLink = document.createElement('div');\n",
              "          docLink.innerHTML = docLinkHtml;\n",
              "          element.appendChild(docLink);\n",
              "        }\n",
              "      </script>\n",
              "    </div>\n",
              "  </div>\n",
              "  "
            ]
          },
          "metadata": {},
          "execution_count": 57
        }
      ]
    },
    {
      "cell_type": "markdown",
      "source": [
        "**Insight**:\n",
        "\n",
        "* Defaulter percentage is highest where NAME_YIELD_GROUP is not known."
      ],
      "metadata": {
        "id": "kuwhfUu9epz6"
      }
    },
    {
      "cell_type": "code",
      "source": [
        "value_wise_defaulter_percentage(prev_ap_merged, 'PRODUCT_COMBINATION')"
      ],
      "metadata": {
        "id": "jckG8sEIem9y",
        "outputId": "6fb0dd65-91e3-49f3-da7c-6cc0f96ea61d",
        "colab": {
          "base_uri": "https://localhost:8080/",
          "height": 551
        }
      },
      "execution_count": 58,
      "outputs": [
        {
          "output_type": "execute_result",
          "data": {
            "text/plain": [
              "                             Value  Percentage of Defaulter\n",
              "13                     Card Street                17.195005\n",
              "4         POS mobile with interest                 8.761056\n",
              "0          POS other with interest                 7.953141\n",
              "3      POS mobile without interest                 7.888514\n",
              "2      POS household with interest                 7.752151\n",
              "11     POS others without interest                 7.256127\n",
              "15                     Card X-Sell                 6.666667\n",
              "5   POS household without interest                 6.649376\n",
              "9              Cash Street: middle                 6.475391\n",
              "10               Cash Street: high                 6.417625\n",
              "8                Cash X-Sell: high                 6.410114\n",
              "1       POS industry with interest                 6.350635\n",
              "12             Cash X-Sell: middle                 6.017039\n",
              "7                 Cash Street: low                 5.976676\n",
              "6    POS industry without interest                 4.711940\n",
              "14                Cash X-Sell: low                 3.986711"
            ],
            "text/html": [
              "\n",
              "  <div id=\"df-469851ea-7e67-487d-9164-afbd5ff12a7f\">\n",
              "    <div class=\"colab-df-container\">\n",
              "      <div>\n",
              "<style scoped>\n",
              "    .dataframe tbody tr th:only-of-type {\n",
              "        vertical-align: middle;\n",
              "    }\n",
              "\n",
              "    .dataframe tbody tr th {\n",
              "        vertical-align: top;\n",
              "    }\n",
              "\n",
              "    .dataframe thead th {\n",
              "        text-align: right;\n",
              "    }\n",
              "</style>\n",
              "<table border=\"1\" class=\"dataframe\">\n",
              "  <thead>\n",
              "    <tr style=\"text-align: right;\">\n",
              "      <th></th>\n",
              "      <th>Value</th>\n",
              "      <th>Percentage of Defaulter</th>\n",
              "    </tr>\n",
              "  </thead>\n",
              "  <tbody>\n",
              "    <tr>\n",
              "      <th>13</th>\n",
              "      <td>Card Street</td>\n",
              "      <td>17.195005</td>\n",
              "    </tr>\n",
              "    <tr>\n",
              "      <th>4</th>\n",
              "      <td>POS mobile with interest</td>\n",
              "      <td>8.761056</td>\n",
              "    </tr>\n",
              "    <tr>\n",
              "      <th>0</th>\n",
              "      <td>POS other with interest</td>\n",
              "      <td>7.953141</td>\n",
              "    </tr>\n",
              "    <tr>\n",
              "      <th>3</th>\n",
              "      <td>POS mobile without interest</td>\n",
              "      <td>7.888514</td>\n",
              "    </tr>\n",
              "    <tr>\n",
              "      <th>2</th>\n",
              "      <td>POS household with interest</td>\n",
              "      <td>7.752151</td>\n",
              "    </tr>\n",
              "    <tr>\n",
              "      <th>11</th>\n",
              "      <td>POS others without interest</td>\n",
              "      <td>7.256127</td>\n",
              "    </tr>\n",
              "    <tr>\n",
              "      <th>15</th>\n",
              "      <td>Card X-Sell</td>\n",
              "      <td>6.666667</td>\n",
              "    </tr>\n",
              "    <tr>\n",
              "      <th>5</th>\n",
              "      <td>POS household without interest</td>\n",
              "      <td>6.649376</td>\n",
              "    </tr>\n",
              "    <tr>\n",
              "      <th>9</th>\n",
              "      <td>Cash Street: middle</td>\n",
              "      <td>6.475391</td>\n",
              "    </tr>\n",
              "    <tr>\n",
              "      <th>10</th>\n",
              "      <td>Cash Street: high</td>\n",
              "      <td>6.417625</td>\n",
              "    </tr>\n",
              "    <tr>\n",
              "      <th>8</th>\n",
              "      <td>Cash X-Sell: high</td>\n",
              "      <td>6.410114</td>\n",
              "    </tr>\n",
              "    <tr>\n",
              "      <th>1</th>\n",
              "      <td>POS industry with interest</td>\n",
              "      <td>6.350635</td>\n",
              "    </tr>\n",
              "    <tr>\n",
              "      <th>12</th>\n",
              "      <td>Cash X-Sell: middle</td>\n",
              "      <td>6.017039</td>\n",
              "    </tr>\n",
              "    <tr>\n",
              "      <th>7</th>\n",
              "      <td>Cash Street: low</td>\n",
              "      <td>5.976676</td>\n",
              "    </tr>\n",
              "    <tr>\n",
              "      <th>6</th>\n",
              "      <td>POS industry without interest</td>\n",
              "      <td>4.711940</td>\n",
              "    </tr>\n",
              "    <tr>\n",
              "      <th>14</th>\n",
              "      <td>Cash X-Sell: low</td>\n",
              "      <td>3.986711</td>\n",
              "    </tr>\n",
              "  </tbody>\n",
              "</table>\n",
              "</div>\n",
              "      <button class=\"colab-df-convert\" onclick=\"convertToInteractive('df-469851ea-7e67-487d-9164-afbd5ff12a7f')\"\n",
              "              title=\"Convert this dataframe to an interactive table.\"\n",
              "              style=\"display:none;\">\n",
              "        \n",
              "  <svg xmlns=\"http://www.w3.org/2000/svg\" height=\"24px\"viewBox=\"0 0 24 24\"\n",
              "       width=\"24px\">\n",
              "    <path d=\"M0 0h24v24H0V0z\" fill=\"none\"/>\n",
              "    <path d=\"M18.56 5.44l.94 2.06.94-2.06 2.06-.94-2.06-.94-.94-2.06-.94 2.06-2.06.94zm-11 1L8.5 8.5l.94-2.06 2.06-.94-2.06-.94L8.5 2.5l-.94 2.06-2.06.94zm10 10l.94 2.06.94-2.06 2.06-.94-2.06-.94-.94-2.06-.94 2.06-2.06.94z\"/><path d=\"M17.41 7.96l-1.37-1.37c-.4-.4-.92-.59-1.43-.59-.52 0-1.04.2-1.43.59L10.3 9.45l-7.72 7.72c-.78.78-.78 2.05 0 2.83L4 21.41c.39.39.9.59 1.41.59.51 0 1.02-.2 1.41-.59l7.78-7.78 2.81-2.81c.8-.78.8-2.07 0-2.86zM5.41 20L4 18.59l7.72-7.72 1.47 1.35L5.41 20z\"/>\n",
              "  </svg>\n",
              "      </button>\n",
              "      \n",
              "  <style>\n",
              "    .colab-df-container {\n",
              "      display:flex;\n",
              "      flex-wrap:wrap;\n",
              "      gap: 12px;\n",
              "    }\n",
              "\n",
              "    .colab-df-convert {\n",
              "      background-color: #E8F0FE;\n",
              "      border: none;\n",
              "      border-radius: 50%;\n",
              "      cursor: pointer;\n",
              "      display: none;\n",
              "      fill: #1967D2;\n",
              "      height: 32px;\n",
              "      padding: 0 0 0 0;\n",
              "      width: 32px;\n",
              "    }\n",
              "\n",
              "    .colab-df-convert:hover {\n",
              "      background-color: #E2EBFA;\n",
              "      box-shadow: 0px 1px 2px rgba(60, 64, 67, 0.3), 0px 1px 3px 1px rgba(60, 64, 67, 0.15);\n",
              "      fill: #174EA6;\n",
              "    }\n",
              "\n",
              "    [theme=dark] .colab-df-convert {\n",
              "      background-color: #3B4455;\n",
              "      fill: #D2E3FC;\n",
              "    }\n",
              "\n",
              "    [theme=dark] .colab-df-convert:hover {\n",
              "      background-color: #434B5C;\n",
              "      box-shadow: 0px 1px 3px 1px rgba(0, 0, 0, 0.15);\n",
              "      filter: drop-shadow(0px 1px 2px rgba(0, 0, 0, 0.3));\n",
              "      fill: #FFFFFF;\n",
              "    }\n",
              "  </style>\n",
              "\n",
              "      <script>\n",
              "        const buttonEl =\n",
              "          document.querySelector('#df-469851ea-7e67-487d-9164-afbd5ff12a7f button.colab-df-convert');\n",
              "        buttonEl.style.display =\n",
              "          google.colab.kernel.accessAllowed ? 'block' : 'none';\n",
              "\n",
              "        async function convertToInteractive(key) {\n",
              "          const element = document.querySelector('#df-469851ea-7e67-487d-9164-afbd5ff12a7f');\n",
              "          const dataTable =\n",
              "            await google.colab.kernel.invokeFunction('convertToInteractive',\n",
              "                                                     [key], {});\n",
              "          if (!dataTable) return;\n",
              "\n",
              "          const docLinkHtml = 'Like what you see? Visit the ' +\n",
              "            '<a target=\"_blank\" href=https://colab.research.google.com/notebooks/data_table.ipynb>data table notebook</a>'\n",
              "            + ' to learn more about interactive tables.';\n",
              "          element.innerHTML = '';\n",
              "          dataTable['output_type'] = 'display_data';\n",
              "          await google.colab.output.renderOutput(dataTable, element);\n",
              "          const docLink = document.createElement('div');\n",
              "          docLink.innerHTML = docLinkHtml;\n",
              "          element.appendChild(docLink);\n",
              "        }\n",
              "      </script>\n",
              "    </div>\n",
              "  </div>\n",
              "  "
            ]
          },
          "metadata": {},
          "execution_count": 58
        }
      ]
    },
    {
      "cell_type": "markdown",
      "source": [
        "**Insight**: Highest percentage of default cases is for Card Street"
      ],
      "metadata": {
        "id": "jBxYxuxcexs5"
      }
    },
    {
      "cell_type": "code",
      "source": [],
      "metadata": {
        "id": "EBe_uWwXeunz"
      },
      "execution_count": null,
      "outputs": []
    }
  ]
}